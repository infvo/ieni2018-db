{
 "cells": [
  {
   "cell_type": "markdown",
   "metadata": {},
   "source": [
    "# Contacts-0b: toevoegen (insert) en veranderen (update)\n",
    "\n",
    "In dit notebook gaan we in op het toevoegen en veranderen van documenten in de database.\n",
    "\n",
    "**TODO**: meer opdrachten toevoegen"
   ]
  },
  {
   "cell_type": "markdown",
   "metadata": {},
   "source": [
    "## Initialisaties"
   ]
  },
  {
   "cell_type": "code",
   "execution_count": null,
   "metadata": {},
   "outputs": [],
   "source": [
    "import os\n",
    "import re\n",
    "import pandas as pd\n",
    "import numpy as np\n",
    "from IPython.core.display import display, HTML\n",
    "import pymongo\n",
    "\n",
    "pd.set_option('max_colwidth',160)\n",
    "\n",
    "userline = !echo $USER\n",
    "username = userline[0]\n",
    "dbname = username + \"-demodb\"\n",
    "print(\"Database name: \" + dbname)\n",
    "\n",
    "from pymongo import MongoClient\n",
    "print('Mongo version', pymongo.__version__)\n",
    "client = MongoClient('localhost', 27017)\n",
    "db = client[dbname]\n",
    "collection = db.contacts\n",
    "\n",
    "collection.drop()\n",
    "os.system('/usr/local/bin/mongoimport -d ' + dbname + ' -c contacts adressen.json')"
   ]
  },
  {
   "cell_type": "markdown",
   "metadata": {},
   "source": [
    "## Insert: toevoegen van documenten\n",
    "\n",
    "Met de `insert`-opdracht kunnen we documenten aan een collectie toevoegen.\n",
    "Vaak gebruiken we `insert_one`, om een enkel document toe te voegen.\n",
    "\n",
    "**Let op**: als je deze opdracht herhaalt, wordt er nog een kopie van hetzelfde document aan de collectie toegevoegd.\n",
    "\n",
    "**Opdracht** Ga dit na."
   ]
  },
  {
   "cell_type": "code",
   "execution_count": null,
   "metadata": {},
   "outputs": [],
   "source": [
    "person = {\"name\": \"Sylvia Hansma\", \n",
    "          \"email\": \"sylh123@hotmail.com\", \n",
    "          \"address\": {\"street\": \"Rijksstraatweg 84\", \"city\": \"Halfweg\"}\n",
    "         }\n",
    "collection.insert_one(person)"
   ]
  },
  {
   "cell_type": "code",
   "execution_count": null,
   "metadata": {},
   "outputs": [],
   "source": [
    "list(collection.find())"
   ]
  },
  {
   "cell_type": "markdown",
   "metadata": {},
   "source": [
    "## Upsert: overschrijven of toevoegen\n",
    "\n",
    "Als je een document wilt toevoegen, waarbij je een eventueel bestaand document wilt overschrijven, dan kun je een update doen met `upsert=True`.\n",
    "Dit betekent dat je een bestaand document overschrijft (update), of, als dat er niet is, een nieuw document toevoegt (insert).\n",
    "\n",
    "> Hier moet je ook voorzichtig mee zijn: er kunnen bijvoorbeeld meerdere personen met dezelfde naam zijn. \n",
    "  Je kunt het query-deel van bijvoorbeeld uitbreiden met het email-adres."
   ]
  },
  {
   "cell_type": "code",
   "execution_count": null,
   "metadata": {},
   "outputs": [],
   "source": [
    "person = {\"name\": \"Sylvia Hansma\", \n",
    "          \"email\": \"sylh123@hotmail.com\", \n",
    "          \"address\": {\"street\": \"Rijksstraatweg 84\", \"city\": \"Halfweg\"}\n",
    "         }\n",
    "collection.update_one({\"name\": person[\"name\"]}, {\"$set\": person}, upsert=True)\n",
    "list(collection.find())"
   ]
  },
  {
   "cell_type": "markdown",
   "metadata": {},
   "source": [
    "## Update\n",
    "\n",
    "Door middel van een update-opdracht kunnen we bepaalde velden veranderen of toevoegen (via `$set`, met een aantal nieuwe waarden)."
   ]
  },
  {
   "cell_type": "code",
   "execution_count": null,
   "metadata": {},
   "outputs": [],
   "source": [
    "collection.update_one({\"name\": \"Anna Verschuur\"}, {\"$set\": {\"isFamily\": True, \"email\": \"anna33@gmail.com\"}})\n",
    "\n",
    "obj = collection.find_one({\"name\": \"Anna Verschuur\"})\n",
    "print(obj)"
   ]
  },
  {
   "cell_type": "code",
   "execution_count": null,
   "metadata": {},
   "outputs": [],
   "source": [
    "upd_obj = {\"address.street\": \"Mozartplein 73\", \"address.city\": \"Rotterdam\", \"address.postcode\": \"2020 BA\"}\n",
    "\n",
    "collection.update_one({\"name\": \"Anna Verschuur\"}, {\"$set\": upd_obj})\n",
    "obj = collection.find_one({\"name\": \"Anna Verschuur\"})\n",
    "print(obj)"
   ]
  },
  {
   "cell_type": "markdown",
   "metadata": {},
   "source": [
    "### Unset\n",
    "\n",
    "Je kunt een ongewenste eigenschap (property) verwijderen met de `$unset`-opdracht. (De waarde van de property is in dit geval niet relevant.)\n",
    "\n",
    "> Deze `$unset` kan handig zijn als een foute update resulteert in het toevoegen van een nieuw verld in plaats van in een update van een bestaand veld."
   ]
  },
  {
   "cell_type": "code",
   "execution_count": null,
   "metadata": {},
   "outputs": [],
   "source": [
    "upd_obj = {\"isFamily\": True}\n",
    "collection.update_one({\"name\": \"Anna Verschuur\"}, {\"$unset\": upd_obj})"
   ]
  },
  {
   "cell_type": "code",
   "execution_count": null,
   "metadata": {},
   "outputs": [],
   "source": []
  }
 ],
 "metadata": {
  "kernelspec": {
   "display_name": "Python 3",
   "language": "python",
   "name": "python3"
  },
  "language_info": {
   "codemirror_mode": {
    "name": "ipython",
    "version": 3
   },
   "file_extension": ".py",
   "mimetype": "text/x-python",
   "name": "python",
   "nbconvert_exporter": "python",
   "pygments_lexer": "ipython3",
   "version": "3.6.5"
  }
 },
 "nbformat": 4,
 "nbformat_minor": 2
}
