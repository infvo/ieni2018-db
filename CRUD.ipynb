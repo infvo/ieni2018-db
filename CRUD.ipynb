{
 "cells": [
  {
   "cell_type": "markdown",
   "metadata": {},
   "source": [
    "# C(R)UD: toevoegen (insert), veranderen (update) en verwijderen (delete)\n",
    "\n",
    "In het vorige notebook hebben aandacht besteed aan het opvragen van gegevens uit de datebase.\n",
    "In dit notebook gaan we in op het toevoegen (insert of create), veranderen (update) en verwijderen (delete) van documenten in de database. We hebben dan de basisopdrachten (CRUD) van een database-systeem behandeld."
   ]
  },
  {
   "cell_type": "markdown",
   "metadata": {},
   "source": [
    "## Initialisaties"
   ]
  },
  {
   "cell_type": "code",
   "execution_count": null,
   "metadata": {},
   "outputs": [],
   "source": [
    "import os\n",
    "import re\n",
    "import pandas as pd\n",
    "import numpy as np\n",
    "from IPython.core.display import display, HTML\n",
    "import pymongo\n",
    "from bson.objectid import ObjectId\n",
    "\n",
    "pd.set_option('max_colwidth',160)\n",
    "\n",
    "userline = !echo $USER\n",
    "username = userline[0]\n",
    "dbname = username + \"-demodb\"\n",
    "print(\"Database name: \" + dbname)\n",
    "\n",
    "print('Mongo version', pymongo.__version__)\n",
    "client = pymongo.MongoClient('localhost', 27017)\n",
    "db = client[dbname]\n",
    "collection = db.contacts\n",
    "\n",
    "mongopathfile = !cat mongopath\n",
    "mongopath = mongopathfile[0]\n",
    "\n",
    "collection.drop()\n",
    "os.system(mongopath + 'mongoimport -d ' + dbname + ' -c contacts adressen.json')"
   ]
  },
  {
   "cell_type": "markdown",
   "metadata": {},
   "source": [
    "## Insert: toevoegen van documenten\n",
    "\n",
    "Met de `insert`-opdracht kunnen we documenten aan een collectie toevoegen.\n",
    "Vaak gebruiken we `insert_one`, om een enkel document toe te voegen.\n",
    "\n",
    "**Let op**: als je deze opdracht herhaalt, voeg je nog  nog een kopie van hetzelfde document aan de collectie toe.\n",
    "\n",
    "**Opdracht** Ga dit na."
   ]
  },
  {
   "cell_type": "code",
   "execution_count": null,
   "metadata": {},
   "outputs": [],
   "source": [
    "person = {\"name\": \"Sylvia Hansma\", \n",
    "          \"email\": \"sylh123@hotmail.com\", \n",
    "          \"address\": {\"street\": \"Rijksstraatweg 84\", \"city\": \"Halfweg\"}\n",
    "         }\n",
    "collection.insert_one(person)"
   ]
  },
  {
   "cell_type": "code",
   "execution_count": null,
   "metadata": {},
   "outputs": [],
   "source": [
    "list(collection.find({\"name\": \"Sylvia Hansma\"}))"
   ]
  },
  {
   "cell_type": "markdown",
   "metadata": {},
   "source": [
    "### Dubbele inserts\n",
    "\n",
    "**Let op**: als je deze insert-opdracht herhaalt, voeg je nog  nog een kopie van hetzelfde document aan de collectie toe. (We zullen later behandelen hoe je documenten verwijdert.)\n",
    "\n",
    "**Opdracht** Ga dit na."
   ]
  },
  {
   "cell_type": "code",
   "execution_count": null,
   "metadata": {},
   "outputs": [],
   "source": []
  },
  {
   "cell_type": "markdown",
   "metadata": {},
   "source": [
    "## Update\n",
    "\n",
    "Door middel van een update-opdracht kun je bepaalde velden veranderen of toevoegen (via `$set`, met een aantal nieuwe waarden).\n",
    "\n",
    "**Veranderen** van gegevens in bestaande velden (properties):"
   ]
  },
  {
   "cell_type": "code",
   "execution_count": null,
   "metadata": {},
   "outputs": [],
   "source": [
    "upd_obj = {\"address.street\": \"Mozartplein 73\", \"address.city\": \"Rotterdam\", \"address.postcode\": \"3021 BA\"}\n",
    "\n",
    "collection.update_one({\"name\": \"Anna Verschuur\"}, {\"$set\": upd_obj})\n",
    "obj = collection.find_one({\"name\": \"Anna Verschuur\"})\n",
    "print(obj)"
   ]
  },
  {
   "cell_type": "markdown",
   "metadata": {},
   "source": [
    "**Opdracht** Maak een opdracht voor het aanpassen van het email-adres van Hans de Boer in de database."
   ]
  },
  {
   "cell_type": "code",
   "execution_count": null,
   "metadata": {},
   "outputs": [],
   "source": []
  },
  {
   "cell_type": "markdown",
   "metadata": {},
   "source": [
    "**Toevoegen** van velden: als een veld in het `$set`-document niet bestaat, wordt dit toegevoegd. (Vgl. ook de *Upsert*, verderop.)\n",
    "\n",
    "> Dit is in een relationele database alleen mogelijk als je de tabel verandert: je voegt dat één of meer velden voor alle rijen in de tabel toe. In MongoDB kun je dit *per document* doen."
   ]
  },
  {
   "cell_type": "code",
   "execution_count": null,
   "metadata": {},
   "outputs": [],
   "source": [
    "collection.update_one({\"name\": \"Anna Verschuur\"}, {\"$set\": {\"isFamily\": True, \"email\": \"anna33@gmail.com\"}})\n",
    "\n",
    "obj = collection.find_one({\"name\": \"Anna Verschuur\"})\n",
    "print(obj)"
   ]
  },
  {
   "cell_type": "markdown",
   "metadata": {},
   "source": [
    "**Opdracht** Ga na dat velden op deze manier niet tweemaal toegevoegd worden."
   ]
  },
  {
   "cell_type": "code",
   "execution_count": null,
   "metadata": {},
   "outputs": [],
   "source": []
  },
  {
   "cell_type": "markdown",
   "metadata": {},
   "source": [
    "### Unset: verwijderen van velden (properties)\n",
    "\n",
    "Je kunt een ongewenste veld (property) van een document verwijderen met de `$unset`-opdracht. De waarde van de property is in dit geval niet relevant.\n",
    "\n",
    "> Deze `$unset` kan handig zijn als een foute update resulteert in het toevoegen van een nieuw veld in plaats van in een update van een bestaand veld."
   ]
  },
  {
   "cell_type": "code",
   "execution_count": null,
   "metadata": {},
   "outputs": [],
   "source": [
    "upd_obj = {\"isFamily\": True}\n",
    "collection.update_one({\"name\": \"Anna Verschuur\"}, {\"$unset\": upd_obj})\n",
    "\n",
    "obj = collection.find_one({\"name\": \"Anna Verschuur\"})\n",
    "print(obj)"
   ]
  },
  {
   "cell_type": "markdown",
   "metadata": {},
   "source": [
    "## Upsert: overschrijven of toevoegen\n",
    "\n",
    "Als je een document wilt toevoegen, waarbij je een eventueel bestaand document wilt overschrijven, dan kun je een update doen met `upsert=True`.\n",
    "Dit betekent dat je een bestaand document overschrijft (update), of, als dat er niet is, een nieuw document toevoegt (insert).\n",
    "\n",
    "> Hier moet je wel voorzichtig mee zijn: er kunnen bijvoorbeeld meerdere personen met dezelfde naam zijn. \n",
    "  Je kunt het query-deel van bijvoorbeeld uitbreiden met het email-adres."
   ]
  },
  {
   "cell_type": "code",
   "execution_count": null,
   "metadata": {},
   "outputs": [],
   "source": [
    "person = {\"name\": \"Sylvia Hansma\", \n",
    "          \"email\": \"sylh123@hotmail.com\", \n",
    "          \"address\": {\"street\": \"Rijksstraatweg 82\", \"city\": \"Halfweg\"}\n",
    "         }\n",
    "collection.update_one({\"name\": person[\"name\"]}, {\"$set\": person}, upsert=True)\n",
    "list(collection.find())"
   ]
  },
  {
   "cell_type": "code",
   "execution_count": null,
   "metadata": {},
   "outputs": [],
   "source": []
  },
  {
   "cell_type": "markdown",
   "metadata": {},
   "source": [
    "## Meervoudige waarden (TODO)\n",
    "\n",
    "**P.M. nog toevoegen: het veranderen van gegevens in het geval van meervoudige waarden, bijvoorbeeld email-adressen**"
   ]
  },
  {
   "cell_type": "markdown",
   "metadata": {},
   "source": [
    "## Verwijderen van een document (delete)\n",
    "\n",
    "Voor het verwijderen van documenten heb je twee soorten opdrachten:\n",
    "\n",
    "* ``delete_one(filter-doc)``\n",
    "* ``delete_many(filter-doc)``\n",
    "\n",
    "De eerste opdracht verwijderd ten hoogste 1 document, ook als er meerdere documenten zijn die matchen met het filter-document."
   ]
  },
  {
   "cell_type": "markdown",
   "metadata": {},
   "source": [
    "Als er meerdere documenten zijn met dezelfde naam en andere eigenschappen, bijvoorbeeld doordat er per ongeluk een tweede `insert` uitgevoerd is, dan kun je het onbedoelde document verwijderen met behulp van de unieke `_id` in het filter"
   ]
  },
  {
   "cell_type": "code",
   "execution_count": null,
   "metadata": {},
   "outputs": [],
   "source": [
    "list(collection.find({\"name\": re.compile(\"Joop\")}))"
   ]
  },
  {
   "cell_type": "code",
   "execution_count": null,
   "metadata": {},
   "outputs": [],
   "source": [
    "collection.delete_one({\"name\": \"Joop de Zwart\"})\n",
    "\n",
    "list(collection.find({\"name\": re.compile(\"Joop\")}))"
   ]
  },
  {
   "cell_type": "markdown",
   "metadata": {},
   "source": [
    "**Opdracht (a)** zorg ervoor dat er twee documenten zijn met dezelfde inhoud voor \"Sylvia Hansma\"`."
   ]
  },
  {
   "cell_type": "code",
   "execution_count": null,
   "metadata": {},
   "outputs": [],
   "source": []
  },
  {
   "cell_type": "markdown",
   "metadata": {},
   "source": [
    "**Opdracht (b)** Laat zien dat er twee (of meer) documenten zijn met dezelfde inhoud voor \"Sylvia Hansma\"`."
   ]
  },
  {
   "cell_type": "code",
   "execution_count": null,
   "metadata": {},
   "outputs": [],
   "source": [
    "list(collection.find({\"name\": \"Sylvia Hansma\"}))"
   ]
  },
  {
   "cell_type": "markdown",
   "metadata": {},
   "source": [
    "**Opdracht (c)** Verwijder het onbedoelde document met behulp van de `_id` in het filter"
   ]
  },
  {
   "cell_type": "code",
   "execution_count": null,
   "metadata": {},
   "outputs": [],
   "source": []
  },
  {
   "cell_type": "markdown",
   "metadata": {},
   "source": [
    "**Opdracht** Formuleer een opdracht voor het verwijderen van alle documenten in `collection`. Laat zien dat de collection leeg is."
   ]
  },
  {
   "cell_type": "code",
   "execution_count": null,
   "metadata": {},
   "outputs": [],
   "source": []
  },
  {
   "cell_type": "code",
   "execution_count": null,
   "metadata": {},
   "outputs": [],
   "source": [
    "list(collection.find())"
   ]
  }
 ],
 "metadata": {
  "kernelspec": {
   "display_name": "Python 3",
   "language": "python",
   "name": "python3"
  },
  "language_info": {
   "codemirror_mode": {
    "name": "ipython",
    "version": 3
   },
   "file_extension": ".py",
   "mimetype": "text/x-python",
   "name": "python",
   "nbconvert_exporter": "python",
   "pygments_lexer": "ipython3",
   "version": "3.6.8"
  }
 },
 "nbformat": 4,
 "nbformat_minor": 2
}
