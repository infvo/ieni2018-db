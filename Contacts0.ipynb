{
 "cells": [
  {
   "cell_type": "markdown",
   "metadata": {},
   "source": [
    "# Contacts(0)\n",
    "\n",
    "In dit notebook introduceren we een eenvoudige database voor contactgegevens van personen.\n",
    "Deze contactgegevens verschillen sterk van persoon tot persoon: daardoor zijn deze eenvoudiger in een MongoDB-document te beschrijven dan in een relationele database.\n",
    "\n",
    "Als voorbeeld-inhoud van de database gebruiken we het bestand adressen.json. \n",
    "Dit voorbeeld geeft ook een goed inzicht in de grote verschillen tussen de contact-documenten."
   ]
  },
  {
   "cell_type": "markdown",
   "metadata": {},
   "source": [
    "## Hoe gebruik je dit Notebook?\n",
    "\n",
    "* een notebook bestaat uit cellen; een cel kan *tekst* bevatten (Markdown), zoals deze cel, of (Python) *code*, zoals de cellen hieronder.\n",
    "* je voert een cel uit door deze te selecteren (cursor in de cel), en vervolgens SHIFT-RETURN in te toetsen.\n",
    "  Ook het pijltje in de opdrachtenbalk hierboven kun je gebruiken.\n",
    "* onder de cel zie je dan de uitvoer van deze opdracht.\n",
    "* alle variabelen enz. die je introduceert in de code van een cel kun je in de volgende cellen gebruiken.\n",
    "* met een `!` kun je een shell-opdracht uitvoeren; het resultaat kun je in Python gebruiken (als string).\n",
    "* om problemen te voorkomen voer je cellen alleen uit *in de volgorde in het notebook*.\n",
    "* je kunt eventueel opnieuw beginnen door de \"Kernel\" opnieuw te starten (via het cirkeltje, als bij een reload in de browser).\n",
    "* zie voor meer informatie: help, en [tutorial](https://www.dataquest.io/blog/jupyter-notebook-tutorial/)\n",
    "\n",
    "De meeste code-cellen kun je zo uitvoeren; probeer de code en de uitvoer te begrijpen.\n",
    "Bij sommige opdrachten moet je de code aanpassen, en dan de cel uitvoeren.\n",
    "\n",
    "Voer nu de cellen hieronder uit."
   ]
  },
  {
   "cell_type": "code",
   "execution_count": null,
   "metadata": {},
   "outputs": [],
   "source": [
    "print(\"Hello World\")"
   ]
  },
  {
   "cell_type": "code",
   "execution_count": null,
   "metadata": {},
   "outputs": [],
   "source": [
    "3 + 4"
   ]
  },
  {
   "cell_type": "code",
   "execution_count": null,
   "metadata": {},
   "outputs": [],
   "source": [
    "filenames = !ls\n",
    "print(filenames)"
   ]
  },
  {
   "cell_type": "markdown",
   "metadata": {},
   "source": [
    "## Pymongo\n",
    "\n",
    "pymongo is de \"driver\" voor MongoDB vanuit Python.\n",
    "De documentatie hiervan vind je via: https://api.mongodb.com/python/current/\n",
    "We gaan hier uit van de situatie waarbij zowel MongoDB als pymongo al geïnstalleerd zijn."
   ]
  },
  {
   "cell_type": "code",
   "execution_count": null,
   "metadata": {},
   "outputs": [],
   "source": [
    "import os\n",
    "import re\n",
    "import pandas as pd\n",
    "import numpy as np\n",
    "from IPython.core.display import display, HTML\n",
    "import pymongo"
   ]
  },
  {
   "cell_type": "markdown",
   "metadata": {},
   "source": [
    "## Databasenaam\n",
    "\n",
    "We leiden de naam van de database af van de naam van de gebruiker.\n",
    "Deze naam krijgen we via de shell-opdracht `echo $USER`.\n",
    "Door deze naam te gebruiken voorkomen we dat de gebruikers van hetzelfde database-managament-systeem elkaar in de weg zitten."
   ]
  },
  {
   "cell_type": "code",
   "execution_count": null,
   "metadata": {},
   "outputs": [],
   "source": [
    "userline = !echo $USER\n",
    "username = userline[0]\n",
    "dbname = username + \"-demodb\"\n",
    "dbname"
   ]
  },
  {
   "cell_type": "markdown",
   "metadata": {},
   "source": [
    "## Verbinding met de database\n",
    "\n",
    "De eerste stap is om verbinding te maken met MongoDB, en met de *demo*-database.\n",
    "In dit geval hebben we geen speciale autorisatie nodig; in de praktijk is dat meestal wel nodig.\n",
    "In deze database gebruikenn we voorlopig maar één collection: *contacts*"
   ]
  },
  {
   "cell_type": "code",
   "execution_count": null,
   "metadata": {},
   "outputs": [],
   "source": [
    "from pymongo import MongoClient\n",
    "print('Mongo version', pymongo.__version__)\n",
    "client = MongoClient('localhost', 27017)\n",
    "db = client[dbname]\n",
    "collection = db.contacts"
   ]
  },
  {
   "cell_type": "markdown",
   "metadata": {},
   "source": [
    "## Inlezen van de voorbeeld-data\n",
    "\n",
    "We importeren de voorbeeld-data uit een tekstbestand in JSON-formaat.\n",
    "Dit tekstformaat is geschikt voor het uitwisselen van *objecten*.\n",
    "Voor allerlei programmeertalen bestaan er libraries om objecten in dit formaat in te lezen of weg te schrijven.\n",
    "\n",
    "**Opdracht** bekijk het bestand addressen.json, met behulp van de opdracht `!cat adressen.json` in de onderstaande code-cel.\n",
    "Geef een voorbeeld van de contactgegevens van een persoon in dit formaat, met telefoonnummer, adres, en email-adres.\n",
    "\n",
    "**Opdracht** hoe zou je aan kunnen geven dat een persoon meerdere telefoonnummers heeft? \n",
    "(NB: dit is lastig; hier komen we later op terug.)"
   ]
  },
  {
   "cell_type": "code",
   "execution_count": null,
   "metadata": {},
   "outputs": [],
   "source": []
  },
  {
   "cell_type": "markdown",
   "metadata": {},
   "source": [
    "Via de (shell)opdracht `mongoimport` importeren we de voorbeeld-data in de collection `contacts` van de database `demo`.\n",
    "Als de opdracht gelukt is krijg je 0 als resultaat; een andere waarde geeft een foutcode aan."
   ]
  },
  {
   "cell_type": "code",
   "execution_count": null,
   "metadata": {},
   "outputs": [],
   "source": [
    "mongopathfile = !cat mongopath\n",
    "mongopath = mongopathfile[0]\n",
    "\n",
    "collection.drop()\n",
    "os.system(mongopath + 'mongoimport -d ' + dbname + ' -c contacts adressen.json')"
   ]
  },
  {
   "cell_type": "markdown",
   "metadata": {},
   "source": [
    "## Query: alle elementen\n",
    "\n",
    "De eenvoudigste zoekopdracht is om alle documenten in de collection te vinden.\n",
    "Deze drukken we vervolgens af.\n",
    "\n",
    "> We kunnen het resultaat ook als Python-lijst krijgen, maar de *cursor*-constructie is geschikter voor grote hoeveelheden documenten.\n",
    "\n",
    "> Het `_id`-veld is de *key* van het document (record) in de collection."
   ]
  },
  {
   "cell_type": "code",
   "execution_count": null,
   "metadata": {},
   "outputs": [],
   "source": [
    "cursor = collection.find()\n",
    "for obj in cursor:\n",
    "    print(obj)"
   ]
  }
 ],
 "metadata": {
  "kernelspec": {
   "display_name": "Python 3",
   "language": "python",
   "name": "python3"
  },
  "language_info": {
   "codemirror_mode": {
    "name": "ipython",
    "version": 3
   },
   "file_extension": ".py",
   "mimetype": "text/x-python",
   "name": "python",
   "nbconvert_exporter": "python",
   "pygments_lexer": "ipython3",
   "version": "3.6.5"
  }
 },
 "nbformat": 4,
 "nbformat_minor": 2
}
