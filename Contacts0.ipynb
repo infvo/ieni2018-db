{
 "cells": [
  {
   "cell_type": "markdown",
   "metadata": {},
   "source": [
    "# Contacts(0)\n",
    "\n",
    "In dit notebook introduceren we een eenvoudige database voor contactgegevens van personen.\n",
    "Deze contactgegevens verschillen sterk van persoon tot persoon: daardoor zijn deze eenvoudiger in een MongoDB-document te beschrijven dan in een relationele database.\n",
    "\n",
    "Als voorbeeld-inhoud van de database gebruiken we het bestand adressen.json. \n",
    "Dit voorbeeld geeft ook een goed inzicht in de grote verschillen tussen de contact-documenten."
   ]
  },
  {
   "cell_type": "markdown",
   "metadata": {},
   "source": [
    "## Hoe gebruik je dit Notebook?\n",
    "\n",
    "* een notebook bestaat uit cellen; een cel kan *tekst* bevatten (Markdown), zoals deze cel, of (Python) *code*, zoals de cellen hieronder.\n",
    "* je voert een cel uit door deze te selecteren (cursor in de cel), en vervolgens SHIFT-RETURN in te toetsen.\n",
    "  Ook het pijltje in de opdrachtenbalk hierboven kun je gebruiken.\n",
    "* onder de cel zie je dan de uitvoer van deze opdracht.\n",
    "* alle variabelen enz. die je introduceert in de code van een cel kun je in de volgende cellen gebruiken.\n",
    "* met een `!` kun je een shell-opdracht uitvoeren; het resultaat kun je in Python gebruiken (als string).\n",
    "* om problemen te voorkomen voer je cellen alleen uit *in de volgorde in het notebook*.\n",
    "* je kunt eventueel opnieuw beginnen door de \"Kernel\" opnieuw te starten (via het cirkeltje, als bij een reload in de browser).\n",
    "* zie voor meer informatie: help, en [tutorial](https://www.dataquest.io/blog/jupyter-notebook-tutorial/)\n",
    "\n",
    "De meeste code-cellen kun je zo uitvoeren; probeer de code en de uitvoer te begrijpen.\n",
    "Bij sommige opdrachten moet je de code aanpassen, en dan de cel uitvoeren.\n",
    "\n",
    "Voer nu de cellen hieronder uit."
   ]
  },
  {
   "cell_type": "code",
   "execution_count": null,
   "metadata": {},
   "outputs": [],
   "source": [
    "print(\"Hello World\")"
   ]
  },
  {
   "cell_type": "code",
   "execution_count": null,
   "metadata": {},
   "outputs": [],
   "source": [
    "3 + 4"
   ]
  },
  {
   "cell_type": "code",
   "execution_count": null,
   "metadata": {},
   "outputs": [],
   "source": [
    "filenames = !ls\n",
    "print(filenames)"
   ]
  },
  {
   "cell_type": "markdown",
   "metadata": {},
   "source": [
    "## Pymongo\n",
    "\n",
    "pymongo is de \"driver\" voor MongoDB vanuit Python.\n",
    "De documentatie hiervan vind je via: https://api.mongodb.com/python/current/\n",
    "We gaan hier uit van de situatie waarbij zowel MongoDB als pymongo al geïnstalleerd zijn."
   ]
  },
  {
   "cell_type": "code",
   "execution_count": null,
   "metadata": {},
   "outputs": [],
   "source": [
    "import os\n",
    "import re\n",
    "import pandas as pd\n",
    "import numpy as np\n",
    "from IPython.core.display import display, HTML\n",
    "import pymongo"
   ]
  },
  {
   "cell_type": "markdown",
   "metadata": {},
   "source": [
    "## Databasenaam\n",
    "\n",
    "We leiden de naam van de database af van de naam van de gebruiker.\n",
    "Deze naam krijgen we via de shell-opdracht `echo $USER`.\n",
    "Door deze naam te gebruiken voorkomen we dat de gebruikers van hetzelfde database-managament-systeem elkaar in de weg zitten."
   ]
  },
  {
   "cell_type": "code",
   "execution_count": null,
   "metadata": {},
   "outputs": [],
   "source": [
    "userline = !echo $USER\n",
    "username = userline[0]\n",
    "dbname = username + \"-demodb\"\n",
    "dbname"
   ]
  },
  {
   "cell_type": "markdown",
   "metadata": {},
   "source": [
    "## Verbinding met de database\n",
    "\n",
    "De eerste stap is om verbinding te maken met MongoDB, en met de *demo*-database.\n",
    "In dit geval hebben we geen speciale autorisatie nodig; in de praktijk is dat meestal wel nodig.\n",
    "In deze database gebruikenn we voorlopig maar één collection: *contacts*"
   ]
  },
  {
   "cell_type": "code",
   "execution_count": null,
   "metadata": {},
   "outputs": [],
   "source": [
    "from pymongo import MongoClient\n",
    "print('Mongo version', pymongo.__version__)\n",
    "client = MongoClient('localhost', 27017)\n",
    "db = client[dbname]\n",
    "collection = db.contacts"
   ]
  },
  {
   "cell_type": "markdown",
   "metadata": {},
   "source": [
    "## Inlezen van de voorbeeld-data\n",
    "\n",
    "We importeren de voorbeeld-data uit een tekstbestand in JSON-formaat.\n",
    "Dit tekstformaat is geschikt voor het uitwisselen van *objecten*.\n",
    "Voor allerlei programmeertalen bestaan er libraries om objecten in dit formaat in te lezen of weg te schrijven.\n",
    "\n",
    "**Opdracht** bekijk het bestand addressen.json, met behulp van de opdracht `!cat adressen.json` in de onderstaande code-cel.\n",
    "Geef een voorbeeld van de contactgegevens van een persoon in dit formaat, met telefoonnummer, adres, en email-adres.\n",
    "\n",
    "**Opdracht** hoe zou je aan kunnen geven dat een persoon meerdere telefoonnummers heeft? \n",
    "(NB: dit is lastig; hier komen we later op terug.)"
   ]
  },
  {
   "cell_type": "code",
   "execution_count": null,
   "metadata": {},
   "outputs": [],
   "source": []
  },
  {
   "cell_type": "markdown",
   "metadata": {},
   "source": [
    "Via de (shell)opdracht `mongoimport` importeren we de voorbeeld-data in de collection `contacts` van de database `demo`.\n",
    "Als de opdracht gelukt is krijg je 0 als resultaat; een andere waarde geeft een foutcode aan."
   ]
  },
  {
   "cell_type": "code",
   "execution_count": null,
   "metadata": {},
   "outputs": [],
   "source": [
    "collection.drop()\n",
    "os.system('/usr/local/bin/mongoimport -d ' + dbname + ' -c contacts adressen.json')"
   ]
  },
  {
   "cell_type": "markdown",
   "metadata": {},
   "source": [
    "## Query: alle elementen\n",
    "\n",
    "De eenvoudigste zoekopdracht is om alle documenten in de collection te vinden.\n",
    "Deze drukken we vervolgens af.\n",
    "\n",
    "> We kunnen het resultaat ook als Python-lijst krijgen, maar de *cursor*-constructie is geschikter voor grote hoeveelheden documenten.\n",
    "\n",
    "> Het `_id`-veld is de *key* van het document (record) in de collection."
   ]
  },
  {
   "cell_type": "code",
   "execution_count": null,
   "metadata": {},
   "outputs": [],
   "source": [
    "cursor = collection.find()\n",
    "for obj in cursor:\n",
    "    print(obj)"
   ]
  },
  {
   "cell_type": "markdown",
   "metadata": {},
   "source": [
    "## Query: zoeken op naam\n",
    "\n",
    "De volgende opdracht is om de gegevens van een of meerdere personen te zoeken,\n",
    "op basis van een deel van de gegevens.\n",
    "We geven in de zoekopdracht een gedeeltelijk ingevuld document;\n",
    "de zoekopdracht vindt dan alle documenten die met die invulling overeenkomen.\n",
    "\n",
    "> Opmerking: dit komt overeen met het `where`-deel in een SQL-query."
   ]
  },
  {
   "cell_type": "code",
   "execution_count": null,
   "metadata": {},
   "outputs": [],
   "source": [
    "cursor1 = collection.find({\"name\": \"Anna Verschuur\"})\n",
    "for obj in cursor1:\n",
    "    print(obj)"
   ]
  },
  {
   "cell_type": "code",
   "execution_count": null,
   "metadata": {},
   "outputs": [],
   "source": [
    "cursor2 = collection.find({\"address.city\": \"Amsterdam\"})\n",
    "for obj in cursor2:\n",
    "    print(obj)"
   ]
  },
  {
   "cell_type": "markdown",
   "metadata": {},
   "source": [
    "## Query: alleen documenten met een bepaald veld\n",
    "\n",
    "In plaats van de waarde van een veld, kunnen we ook het predicaat-waarde `$exists` opgeven: we vinden dan alleen die documenten die een waarde hebben voor dit veld.\n",
    "Dit is in MongoDB een zinvolle query, omdat documenten verschillend kunnen zijn van structuur.\n",
    "\n",
    "> Opmerking: in SQL heeft een rij altijd alle velden, maar een veld kan wel *leeg* (NULL) zijn. Dat komt het meest in de buurt van deze vorm.\n",
    "    "
   ]
  },
  {
   "cell_type": "code",
   "execution_count": null,
   "metadata": {},
   "outputs": [],
   "source": [
    "cursor4 = collection.find({\"address\": {\"$exists\": True}})\n",
    "for obj in cursor4:\n",
    "    print(obj)"
   ]
  },
  {
   "cell_type": "markdown",
   "metadata": {},
   "source": [
    "## Find: reguliere expressies\n",
    "\n",
    "Met behulp van reguliere expressies kun je zoeken op waarden die voor een deel bepaald zijn. In het voorbeeld zoeken we op namen waar `schuur` in voorkomt.\n",
    "\n",
    "> In het geval van SQL gebruik je daarvoor de LIKE constructie."
   ]
  },
  {
   "cell_type": "code",
   "execution_count": null,
   "metadata": {},
   "outputs": [],
   "source": [
    "cursor = collection.find({\"name\": re.compile(\"schuur\")})\n",
    "list(cursor)"
   ]
  },
  {
   "cell_type": "markdown",
   "metadata": {},
   "source": [
    "**Opdracht** Zoek personen die in Amsterdam of in Rotterdam wonen (door een handige reguliere expressie te kiezen)."
   ]
  },
  {
   "cell_type": "code",
   "execution_count": null,
   "metadata": {},
   "outputs": [],
   "source": []
  },
  {
   "cell_type": "markdown",
   "metadata": {},
   "source": [
    "## Projectie\n",
    "\n",
    "In de voorbeelden hierboven hebben we de complete documenten laten zien.\n",
    "Vaak zijn we maar in bepaalde onderdelen geïnteresseerd.\n",
    "In een *projectie* kunnen we aangeven welke onderdelen in het resultaat opgenomen moeten worden.\n",
    "Zo'n project bevat de velden van het document die we willen zien, met een \"1\" als waarde.\n",
    "(We kunnen ook aangeven welke velden we willen weglaten (exclusie): die geven we aan met een \"0\" als waarde.)\n",
    "\n",
    "> Opmerking: projectie komt overeen met het SELECT-deel in een SQL-query"
   ]
  },
  {
   "cell_type": "code",
   "execution_count": null,
   "metadata": {},
   "outputs": [],
   "source": [
    "cursor3 = collection.find({\"address.city\": \"Amsterdam\"}, {\"name\": 1, \"address\": 1})\n",
    "for obj in cursor3:\n",
    "    print(obj)"
   ]
  },
  {
   "cell_type": "code",
   "execution_count": null,
   "metadata": {},
   "outputs": [],
   "source": [
    "cursor4 = collection.find({\"address\": {\"$exists\": True}})\n",
    "df1 = pd.DataFrame(list(cursor4))\n",
    "df1 = df1.set_index(\"_id\")\n",
    "df1.head()"
   ]
  },
  {
   "cell_type": "code",
   "execution_count": null,
   "metadata": {},
   "outputs": [],
   "source": [
    "cursor4 = collection.find({\"address\": {\"$exists\": True}})\n",
    "list(cursor4)"
   ]
  },
  {
   "cell_type": "markdown",
   "metadata": {},
   "source": [
    "## Insert: toevoegen van documenten\n",
    "\n",
    "Met de `insert`-opdracht kunnen we documenten aan een collectie toevoegen.\n",
    "Vaak gebruiken we `insert_one`, om een enkel document toe te voegen.\n",
    "\n",
    "NB: als je deze opdracht herhaalt, wordt er nog een kopie van hetzelfde document aan de collectie toegevoegd.\n",
    "\n",
    "**Opdracht** Ga dit na."
   ]
  },
  {
   "cell_type": "code",
   "execution_count": null,
   "metadata": {},
   "outputs": [],
   "source": [
    "person = {\"name\": \"Sylvia Hansma\", \n",
    "          \"email\": \"sylh123@hotmail.com\", \n",
    "          \"address\": {\"street\": \"Rijksstraatweg 84\", \"city\": \"Halfweg\"}\n",
    "         }\n",
    "collection.insert_one(person)"
   ]
  },
  {
   "cell_type": "code",
   "execution_count": null,
   "metadata": {},
   "outputs": [],
   "source": [
    "cursor4 = collection.find()\n",
    "list(cursor4)"
   ]
  },
  {
   "cell_type": "code",
   "execution_count": null,
   "metadata": {},
   "outputs": [],
   "source": [
    "collection.distinct(\"address.city\")"
   ]
  },
  {
   "cell_type": "code",
   "execution_count": null,
   "metadata": {},
   "outputs": [],
   "source": [
    "cursor4 = collection.find({\"address\": {\"$exists\": True}})\n",
    "df1 = pd.DataFrame(list(cursor4))\n",
    "df1 = df1.set_index(\"_id\")\n",
    "df1.head()"
   ]
  },
  {
   "cell_type": "markdown",
   "metadata": {},
   "source": [
    "Kunnen we in het bovenstaande ook de volgorde van de velden aanpassen, bij het weergeven in de tabel?\n",
    "Bovendien is de index niet erg betekenisvol.\n",
    "\n",
    "Controleren op ontbrekende velden, bijvoorbeeld het ontbreken van een mailadres.\n",
    "(Volgende stap: controleren op het ontbreken van een postcode in een adres.)"
   ]
  },
  {
   "cell_type": "code",
   "execution_count": null,
   "metadata": {},
   "outputs": [],
   "source": [
    "cursor4 = collection.find({\"email\": {\"$exists\": False}})\n",
    "df1 = pd.DataFrame(list(cursor4))\n",
    "df1 = df1.set_index(\"_id\")\n",
    "df1.head()"
   ]
  },
  {
   "cell_type": "code",
   "execution_count": null,
   "metadata": {},
   "outputs": [],
   "source": [
    "cursor4 = collection.find({\"address\": {\"$exists\": True}, \"address.postcode\": {\"$exists\": False}})\n",
    "df1 = pd.DataFrame(list(cursor4))\n",
    "df1 = df1.set_index(\"_id\")\n",
    "df1.head()"
   ]
  },
  {
   "cell_type": "markdown",
   "metadata": {},
   "source": [
    "Opmerking: eigenlijk willen we in de Python-tabel het adres ook in de onderdelen uitsplitsen. Dit is wat je in een tabel doet. (Je mag dan geen herhalende elementen hebben...)"
   ]
  },
  {
   "cell_type": "code",
   "execution_count": null,
   "metadata": {},
   "outputs": [],
   "source": [
    "display(HTML('<h1>Hello, world!</h1>'))"
   ]
  },
  {
   "cell_type": "markdown",
   "metadata": {},
   "source": [
    "We kunnen HTML-display gebruiken om te laten zien hoe je gegevens uit een database kunt ophalen, en deze via HTML kunt weergeven. Dit kun je bijvoorbeeld gebruiken als voorbereiding voor het maken van een website. (De website zelf kun je niet maken met Jupyter: daarvoor zou je bijvoorbeeld Flask kunnen gebruiken?)\n",
    "\n",
    "**Nog toevoegen**\n",
    "\n",
    "* toevoegen van een veld, via een update\n",
    "* andere aanpassingen? bijvoorbeeld het veranderen van het adres?\n",
    "* tellen van het aantal mensen dan in Amsterdam woont (... er zijn niet veel andere vormen van aggregatie mogelijk, lijkt mij...)"
   ]
  },
  {
   "cell_type": "code",
   "execution_count": null,
   "metadata": {},
   "outputs": [],
   "source": [
    "collection.update_one({\"name\": \"Anna Verschuur\"}, {\"$set\": {\"isFamily\": True}})"
   ]
  },
  {
   "cell_type": "code",
   "execution_count": null,
   "metadata": {},
   "outputs": [],
   "source": [
    "obj = collection.find_one({\"name\": \"Anna Verschuur\"})\n",
    "print(obj)"
   ]
  },
  {
   "cell_type": "code",
   "execution_count": null,
   "metadata": {},
   "outputs": [],
   "source": [
    "upd_obj = {\"isFamily\": True, \"address.city\": \"Rotterdam\"}\n",
    "print(upd_obj)"
   ]
  },
  {
   "cell_type": "markdown",
   "metadata": {},
   "source": [
    "collection.update_one({\"name\": \"Anna Verschuur\"}, {\"$set\": upd_obj})"
   ]
  },
  {
   "cell_type": "code",
   "execution_count": null,
   "metadata": {},
   "outputs": [],
   "source": [
    "obj = collection.find_one({\"name\": \"Anna Verschuur\"})\n",
    "print(obj)"
   ]
  },
  {
   "cell_type": "markdown",
   "metadata": {},
   "source": [
    "Samengestelde queries:\n",
    "\n",
    "* and: combineren van de verschillende termen in één document\n",
    "* or: speciale constructie\n",
    "\n",
    "Voorbeeld: woont in Amsterdam of is familie\n",
    "\n",
    "(Vraag: bij MySQL heb je een wildcard-match; heb je ook zoiets bij MongoDB?)"
   ]
  },
  {
   "cell_type": "code",
   "execution_count": null,
   "metadata": {},
   "outputs": [],
   "source": [
    "cursor5 = collection.find(\n",
    "    {\"$or\": [{\"isFamily\": True}, {\"address.city\": \"Amsterdam\"}]})\n",
    "df1 = pd.DataFrame(list(cursor5))\n",
    "df1 = df1.set_index(\"_id\")\n",
    "df1.head()"
   ]
  },
  {
   "cell_type": "code",
   "execution_count": null,
   "metadata": {},
   "outputs": [],
   "source": [
    "import re\n",
    "regx = re.compile(r\"verschuur\", re.IGNORECASE)\n",
    "cursor = collection.find({\"name\": regx})\n",
    "df1 = pd.DataFrame(list(cursor))\n",
    "df1.head()"
   ]
  },
  {
   "cell_type": "code",
   "execution_count": null,
   "metadata": {},
   "outputs": [],
   "source": []
  }
 ],
 "metadata": {
  "kernelspec": {
   "display_name": "Python 3",
   "language": "python",
   "name": "python3"
  },
  "language_info": {
   "codemirror_mode": {
    "name": "ipython",
    "version": 3
   },
   "file_extension": ".py",
   "mimetype": "text/x-python",
   "name": "python",
   "nbconvert_exporter": "python",
   "pygments_lexer": "ipython3",
   "version": "3.6.5"
  }
 },
 "nbformat": 4,
 "nbformat_minor": 2
}
