{
 "cells": [
  {
   "cell_type": "markdown",
   "metadata": {},
   "source": [
    "# Find: opvragen van data\n",
    "\n",
    "In dit notebook gaan verder we in op de MongoDB `find`-opdrachten (`find_one` en `find`), voor het opvragen van gegevens.\n",
    "\n",
    "We beginnen met de standaardacties voor het importeren van de belangrijkste libraries, om verbinding te maken met de database, en om de voorbeeld-data in te lezen."
   ]
  },
  {
   "cell_type": "markdown",
   "metadata": {},
   "source": [
    "## Import en initialisatie\n",
    "\n",
    "Dit is het vaste begin van elk notebook in deze reeks, zie de uitleg in [Connect](Connect.ipynb).\n",
    "\n",
    "**Let op!** Het resultaat van de laatste opdracht (mongoimport) moet 0 zijn, anders is er sprake van een probleem. Dit moet je eerst (laten) oplossen: doorgaan met de rest heeft dan geen zin."
   ]
  },
  {
   "cell_type": "code",
   "execution_count": null,
   "metadata": {},
   "outputs": [],
   "source": [
    "import os\n",
    "import re\n",
    "import pandas as pd\n",
    "import numpy as np\n",
    "from IPython.core.display import display, HTML\n",
    "import pymongo\n",
    "\n",
    "print('Mongo version', pymongo.__version__)\n",
    "\n",
    "pd.set_option('max_colwidth',160)\n",
    "\n",
    "userline = !echo $USER\n",
    "username = userline[0]\n",
    "dbname = username + \"-demodb\"\n",
    "print(\"Database name: \" + dbname)\n",
    "\n",
    "client = pymongo.MongoClient('localhost', 27017)\n",
    "db = client[dbname]\n",
    "collection = db.contacts\n",
    "\n",
    "mongopathfile = !cat mongopath\n",
    "mongopath = mongopathfile[0]\n",
    "print(mongopath)\n",
    "\n",
    "collection.drop()\n",
    "os.system(mongopath + 'mongoimport -d ' + dbname + ' -c contacts adressen.json')"
   ]
  },
  {
   "cell_type": "markdown",
   "metadata": {},
   "source": [
    "## Query: alle elementen\n",
    "\n",
    "Als controle op de database zoeken we alle elementen.\n",
    "(Voor een realistische database is dat ondoenlijk.)"
   ]
  },
  {
   "cell_type": "code",
   "execution_count": null,
   "metadata": {},
   "outputs": [],
   "source": [
    "cursor = collection.find()\n",
    "for obj in cursor:\n",
    "    print(obj[\"name\"])\n",
    "    print(obj)"
   ]
  },
  {
   "cell_type": "markdown",
   "metadata": {},
   "source": [
    "## Query: zoeken op naam\n",
    "\n",
    "De volgende zoekopdracht is naar de gegevens van een of meerdere personen,\n",
    "op basis van een deel van de gegevens.\n",
    "Je geeft in de zoekopdracht een *gedeeltelijk ingevuld document*: het query-document.\n",
    "de zoekopdracht vindt dan alle documenten die met die invulling overeenkomen.\n",
    "\n",
    "> Opmerking: dit komt overeen met het `where`-deel in een SQL-query."
   ]
  },
  {
   "cell_type": "code",
   "execution_count": null,
   "metadata": {},
   "outputs": [],
   "source": [
    "cursor = collection.find({\"name\": \"Anna Verschuur\"})\n",
    "for obj in cursor:\n",
    "    print(obj)"
   ]
  },
  {
   "cell_type": "markdown",
   "metadata": {},
   "source": [
    "Als het aantal resultaten klein is, dan is het vaak handiger om de cursor direct om te zetten in een `list`.\n",
    "We hebben dan niet steeds een for-opdracht nodig om de elementen af te drukken.\n",
    "\n",
    "**Let op** na de opdracht ``list(cursor)`` (of na de `for`-opdracht) het is de cursor \"leeg\"; ga na wat er gebeurt als je deze opdracht tweemaal achter elkaar uitvoert."
   ]
  },
  {
   "cell_type": "code",
   "execution_count": null,
   "metadata": {},
   "outputs": [],
   "source": [
    "cursor = collection.find({\"name\": \"Anna Verschuur\"})\n",
    "list(cursor)"
   ]
  },
  {
   "cell_type": "markdown",
   "metadata": {},
   "source": [
    "Je kunt zoekwaarde(n) gebruiken die willekeurig diep in het document genest zijn, bijvoorbeeld:"
   ]
  },
  {
   "cell_type": "code",
   "execution_count": null,
   "metadata": {},
   "outputs": [],
   "source": [
    "list(collection.find({\"address.city\": \"Amsterdam\"}))"
   ]
  },
  {
   "cell_type": "markdown",
   "metadata": {},
   "source": [
    "**Opdracht** maak hieronder een query voor het zoeken van alle inwoners van Rotterdam in de database."
   ]
  },
  {
   "cell_type": "code",
   "execution_count": null,
   "metadata": {},
   "outputs": [],
   "source": []
  },
  {
   "cell_type": "markdown",
   "metadata": {},
   "source": [
    "## Find: reguliere expressies\n",
    "\n",
    "Met behulp van reguliere expressies kun je zoeken op waarden die voor een deel bepaald zijn. In het voorbeeld zoeken we op namen waar `schuur` in voorkomt; we maken daarbij geen verschil tussen hoofd- en kleine letters (`re.IGNORECASE`).\n",
    "\n",
    "> MongoDB/pymongo gebruikt hiervoor de Python reguliere expressies, zie: https://docs.python.org/3/library/re.html en https://docs.python.org/3/howto/regex.html.\n",
    "\n",
    "> In het geval van SQL gebruik je hiervoor de LIKE constructie met wildcards (\"jokers\")."
   ]
  },
  {
   "cell_type": "code",
   "execution_count": null,
   "metadata": {},
   "outputs": [],
   "source": [
    "list(collection.find({\"name\": re.compile(\"schuur\", flags=re.IGNORECASE)}))"
   ]
  },
  {
   "cell_type": "markdown",
   "metadata": {},
   "source": [
    "**Opdracht** Zoek personen die in Amsterdam of in Rotterdam wonen (door een handige reguliere expressie te kiezen)."
   ]
  },
  {
   "cell_type": "code",
   "execution_count": null,
   "metadata": {},
   "outputs": [],
   "source": []
  },
  {
   "cell_type": "markdown",
   "metadata": {},
   "source": [
    "## Zoeken naar één document\n",
    "\n",
    "Voor het zoeken naar één enkel document gebruik je: `find_one`.\n",
    "Als er geen document gevonden wordt is het resultaat `None`.\n",
    "(Dit is *de lege waarde* in Python.)"
   ]
  },
  {
   "cell_type": "code",
   "execution_count": null,
   "metadata": {},
   "outputs": [],
   "source": [
    "anna = collection.find_one({\"name\": \"Anna Verschuur\"})\n",
    "anna"
   ]
  },
  {
   "cell_type": "markdown",
   "metadata": {},
   "source": [
    "## Samengestelde queries\n",
    "\n",
    "Als je meerdere eigenschappen gebruikt in een query, dan heeft dit de betekenis van een **and**:\n",
    "de gezochte documenten voldoen aan alle deel-eisen."
   ]
  },
  {
   "cell_type": "code",
   "execution_count": null,
   "metadata": {},
   "outputs": [],
   "source": [
    "cursor = collection.find({\"name\": \"Anna Verschuur\", \"address.city\": \"Amsterdam\"})\n",
    "for obj in cursor:\n",
    "    print(obj)"
   ]
  },
  {
   "cell_type": "markdown",
   "metadata": {},
   "source": [
    "**Opdracht** maak een zoekopdracht voor alle \"Anna\"s die in Amsterdam wonen."
   ]
  },
  {
   "cell_type": "code",
   "execution_count": null,
   "metadata": {},
   "outputs": [],
   "source": []
  },
  {
   "cell_type": "markdown",
   "metadata": {},
   "source": [
    "Soms heb je andere samenstellingen nodig, bijvoorbeeld als je zoekt naar personen in Amsterdam of in Rotterdam.\n",
    "In dit geval gebruik je een `$or` met een lijst van deel-eisen.\n",
    "(Je hebben eerder dit probleem opgelost met een reguliere expressie.)"
   ]
  },
  {
   "cell_type": "code",
   "execution_count": null,
   "metadata": {},
   "outputs": [],
   "source": [
    "cursor = collection.find(\n",
    "    {\"$or\": [{\"address.city\": \"Rotterdam\"}, {\"address.city\": \"Amsterdam\"}]})\n",
    "list(cursor)"
   ]
  },
  {
   "cell_type": "markdown",
   "metadata": {},
   "source": [
    "**Opdracht** zoek alle \"Anna\"s die in Amsterdam of in Rotterdam wonen."
   ]
  },
  {
   "cell_type": "code",
   "execution_count": null,
   "metadata": {},
   "outputs": [],
   "source": []
  },
  {
   "cell_type": "markdown",
   "metadata": {},
   "source": [
    "## Projectie\n",
    "\n",
    "In de voorbeelden hierboven hebben we de complete documenten laten zien.\n",
    "Vaak ben je maar in een paar onderdelen geïnteresseerd.\n",
    "In een *projectie* geef je de gewenste onderdelen van het resultaat aan.\n",
    "Zo'n projectie bevat de velden van het document die je wilt zien, met een \"1\" als waarde.\n",
    "Je kunt ook aangeven welke velden je wilt weglaten (exclusie): die geef je aan met een \"0\" als waarde.\n",
    "Dit gebruiken we bijvoorbeeld als we de *key* (`_id`) niet nodig hebben.\n",
    "\n",
    "> Opmerking: projectie komt overeen met het SELECT-deel in een SQL-query\n",
    "\n",
    "> ***NB: hier voeren we teveel nieuwe dingen tegelijk in - AANPASSEN***"
   ]
  },
  {
   "cell_type": "code",
   "execution_count": null,
   "metadata": {},
   "outputs": [],
   "source": [
    "query = {\"address.city\": \"Amsterdam\"}\n",
    "projection = {\"_id\":0, \"name\": 1, \"address\": 1}\n",
    "list1 = list(collection.find(query, projection))\n",
    "list1"
   ]
  },
  {
   "cell_type": "markdown",
   "metadata": {},
   "source": [
    "### Weergave als tabel\n",
    "Je kunt een dergelijke lijst ook als (pandas) tabel weergeven.\n",
    "Daarbij kun je ook de volgorde van de elementen (kolommen) aangeven.\n",
    "Let hierbij op de dubbele `[[ ]]`: dit is ook een *projectie*, maar nu in Python/pandas.\n",
    "\n",
    "> Het is niet netjes om het geneste document \"address\" zo te laten staan, maar dat laten we nu even voor wat het is."
   ]
  },
  {
   "cell_type": "code",
   "execution_count": null,
   "metadata": {},
   "outputs": [],
   "source": [
    "df0 = pd.DataFrame(list1)\n",
    "display(df0[[\"name\", \"address\"]])"
   ]
  },
  {
   "cell_type": "markdown",
   "metadata": {},
   "source": [
    "## Sorteren\n",
    "\n",
    "Met behulp van `sort` pas je de volgorde van de documenten in het resultaat aan.\n",
    "Je geeft daarbij het veld en de sorteerrichting aan."
   ]
  },
  {
   "cell_type": "code",
   "execution_count": null,
   "metadata": {},
   "outputs": [],
   "source": [
    "cursor = collection.find({\"address.city\": \"Amsterdam\"}, {\"_id\":0, \"name\": 1, \"address\": 1})\n",
    "cursor.sort(\"address.street\", pymongo.DESCENDING)\n",
    "df0 = pd.DataFrame(list(cursor))\n",
    "display(df0[[\"name\", \"address\"]])"
   ]
  },
  {
   "cell_type": "markdown",
   "metadata": {},
   "source": [
    "## Alleen documenten met een bepaald veld\n",
    "\n",
    "In plaats van de *waarde* van een veld, kunnen we ook het predicaat-waarde `{\"$exists\": True}` opgeven: we vinden dan alleen die documenten die een waarde hebben voor dit veld.\n",
    "Dit is in MongoDB een zinvolle query, omdat documenten verschillend kunnen zijn van structuur.\n",
    "\n",
    "> In SQL heeft een rij altijd alle velden, maar een veld kan wel *leeg* (NULL) zijn. Dat komt het meest in de buurt van deze vorm."
   ]
  },
  {
   "cell_type": "code",
   "execution_count": null,
   "metadata": {},
   "outputs": [],
   "source": [
    "projection = {\"_id\":0, \"name\": 1, \"email\": 1, \"tel\": 1}\n",
    "cursor = collection.find({\"email\": {\"$exists\": True}}, projection)\n",
    "list(cursor)"
   ]
  },
  {
   "cell_type": "markdown",
   "metadata": {},
   "source": [
    "## Documenten met een ontbrekend veld\n",
    "\n",
    "Het tegenovergestelde is ook vaak nuttig: in welke documenten ontbreekt een bepaald veld? (Via: `\"$exists\": False`.)"
   ]
  },
  {
   "cell_type": "code",
   "execution_count": null,
   "metadata": {},
   "outputs": [],
   "source": [
    "cursor = collection.find({\"address\": {\"$exists\": True}, \"address.postcode\": {\"$exists\": False}})\n",
    "list(cursor)"
   ]
  },
  {
   "cell_type": "markdown",
   "metadata": {},
   "source": [
    "**Opdracht** Maak een zoekopdracht voor alle documenten zonder telefoonnummer."
   ]
  },
  {
   "cell_type": "markdown",
   "metadata": {},
   "source": [
    "## Welke waarden in de database?\n",
    "\n",
    "Soms wil je weten welke waarden voor een bepaald veld in de documenten in de database voorkomen.\n",
    "Bijvoorbeeld: welke plaatsen komen voor in de database?\n",
    "Met behulp van `distinct` kun je dit opvragen."
   ]
  },
  {
   "cell_type": "code",
   "execution_count": null,
   "metadata": {},
   "outputs": [],
   "source": [
    "collection.distinct(\"address.city\")"
   ]
  },
  {
   "cell_type": "markdown",
   "metadata": {},
   "source": [
    "**Opdracht** Welke namen komen in de database voor?"
   ]
  },
  {
   "cell_type": "markdown",
   "metadata": {},
   "source": [
    "## Meervoudige waarden\n",
    "\n",
    "Zoals je wellicht gezien hebt, kan een contact-document meerdere email-adressen bevatten.\n",
    "Voor de `find`-opdrachten maakt dit niets uit:\n",
    "\n",
    "1. in het resultaat zie je voor het email-veld soms een enkelvoudige waarde, en soms een array van waarden.\n",
    "2. bij het zoeken naar een document met een bepaald email-adres kun je dezelfde vorm hanteren als voor een enkelvoudige waarde\n",
    "\n",
    "Het eerste heb je al in de eerdere voorbeelden gezien (controleer dit eventueel).\n",
    "Van dit laatste zie je hieronder een voorbeeld:"
   ]
  },
  {
   "cell_type": "code",
   "execution_count": null,
   "metadata": {},
   "outputs": [],
   "source": [
    "projection = {\"name\":1, \"address.city\":1, \"email\":1}\n",
    "list(collection.find({\"email\": \"lhmdebruin@hotmail.com\"}, projection))"
   ]
  },
  {
   "cell_type": "markdown",
   "metadata": {},
   "source": [
    "**Opdracht**\n",
    "Maak een zoekopdracht voor alle contacten die een hotmail-mailadres hebben."
   ]
  },
  {
   "cell_type": "code",
   "execution_count": null,
   "metadata": {},
   "outputs": [],
   "source": []
  },
  {
   "cell_type": "code",
   "execution_count": null,
   "metadata": {},
   "outputs": [],
   "source": []
  }
 ],
 "metadata": {
  "kernelspec": {
   "display_name": "Python 3",
   "language": "python",
   "name": "python3"
  },
  "language_info": {
   "codemirror_mode": {
    "name": "ipython",
    "version": 3
   },
   "file_extension": ".py",
   "mimetype": "text/x-python",
   "name": "python",
   "nbconvert_exporter": "python",
   "pygments_lexer": "ipython3",
   "version": "3.7.3"
  }
 },
 "nbformat": 4,
 "nbformat_minor": 2
}
