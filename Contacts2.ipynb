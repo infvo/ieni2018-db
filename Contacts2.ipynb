{
 "cells": [
  {
   "cell_type": "markdown",
   "metadata": {},
   "source": [
    "# Contacts2: meervoudige waarden\n",
    "\n",
    "In een MongoDB-document kan een property meerdere waarden bevatten, in de vorm van een array van waarden.\n",
    "\n",
    "> In een relationele (SQL) database heb je voor meervoudige waarden een aparte tabel nodig. In MongoDB kun je zo'n array direct in het document opnemen (*embedding*).\n",
    "\n",
    "* hoe geef je deze meervoudige waarden weer in een document?\n",
    "* hoe geef je deze weer in een validator-schema?\n",
    "* welke gevolgen heeft dit voor queries?\n",
    "    * voor het bevragen van de data\n",
    "    * voor het toevoegen van data\n",
    "    \n",
    "**TODO** dit onderdeel verder afmaken: is nu incompleet.    "
   ]
  },
  {
   "cell_type": "code",
   "execution_count": null,
   "metadata": {},
   "outputs": [],
   "source": [
    "import os\n",
    "import re\n",
    "import pandas as pd\n",
    "import numpy as np\n",
    "from IPython.core.display import display, HTML\n",
    "import pymongo\n",
    "\n",
    "pd.set_option('max_colwidth',160)\n",
    "\n",
    "userline = !echo $USER\n",
    "username = userline[0]\n",
    "dbname = username + \"-demodb\"\n",
    "print(\"Database name: \" + dbname)\n",
    "\n",
    "from pymongo import MongoClient\n",
    "print('Mongo version', pymongo.__version__)\n",
    "client = MongoClient('localhost', 27017)\n",
    "db = client[dbname]\n",
    "collection = db.contacts\n",
    "\n",
    "mongopathfile = !cat mongopath\n",
    "mongopath = mongopathfile[0]\n",
    "\n",
    "collection.drop()\n",
    "os.system(mongopath + 'mongoimport -d ' + dbname + ' -c contacts adressen.json')"
   ]
  },
  {
   "cell_type": "code",
   "execution_count": null,
   "metadata": {},
   "outputs": [],
   "source": [
    "mirjam = {\"name\": \"Mirjam Arendsen\",\n",
    "          \"tel\": [{\"tel\": \"06-1234 5678\", \"soort\": \"mobiel\"},\n",
    "                   {\"tel\": \"020-8877669\", \"soort\": \"thuis\"}],\n",
    "          \"email\": \"mirjaar@example.com\",\n",
    "          \"address\": {\"street\": \"Damesgracht 42\", \"city\": \"Rommeldam\"}}"
   ]
  },
  {
   "cell_type": "code",
   "execution_count": null,
   "metadata": {},
   "outputs": [],
   "source": [
    "collection.insert_one(mirjam)"
   ]
  },
  {
   "cell_type": "code",
   "execution_count": null,
   "metadata": {},
   "outputs": [],
   "source": [
    "list(collection.find())"
   ]
  },
  {
   "cell_type": "code",
   "execution_count": null,
   "metadata": {},
   "outputs": [],
   "source": [
    "list(collection.find({\"tel\": {\"$exists\": True}}))"
   ]
  },
  {
   "cell_type": "code",
   "execution_count": null,
   "metadata": {},
   "outputs": [],
   "source": [
    "list(collection.find({\"tel.tel\": \"06-1234 5678\"}))"
   ]
  },
  {
   "cell_type": "code",
   "execution_count": null,
   "metadata": {},
   "outputs": [],
   "source": [
    "list(collection.find({\"$or\": [{\"tel.tel\": \"010-123 123 9\"}, {\"tel\": \"010-123 123 9\"}]}))"
   ]
  },
  {
   "cell_type": "markdown",
   "metadata": {},
   "source": [
    "**Opmerking**: ik zie geen andere oplossing dan deze wat omslachtige query. Een alternatief is om het schema te veranderen, zodat we altijd een array gebruiken (dat dan overigens ook leeg kan zijn).\n",
    "\n",
    "Welke conventie kunnen we hierbij hanteren? gebruiken we een speciale naam voor het array? Ik voel er veel voor om de \"gestandaardiseerde\" naam voor het eigenlijke veld te gebruiken: bijvoorbeeld: \"tels:telephone\". Dit komt ook overeen met het gebruik in RDFa en microdata: je vermeldt de eigenschap dan meerdere keren. (In het geval van JSON moet je dan een naam voor het array verzinnen.)\n",
    "(In schema.org zijn de meervouden zoveel mogelijk vervangen door het enkelvoud, bijvoorbeeld: parent in plaats van parents. Je hebt dan met een relatie te maken die mogelijk meervoudig kan zijn.)"
   ]
  },
  {
   "cell_type": "code",
   "execution_count": null,
   "metadata": {},
   "outputs": [],
   "source": []
  }
 ],
 "metadata": {
  "kernelspec": {
   "display_name": "Python 3",
   "language": "python",
   "name": "python3"
  },
  "language_info": {
   "codemirror_mode": {
    "name": "ipython",
    "version": 3
   },
   "file_extension": ".py",
   "mimetype": "text/x-python",
   "name": "python",
   "nbconvert_exporter": "python",
   "pygments_lexer": "ipython3",
   "version": "3.6.5"
  }
 },
 "nbformat": 4,
 "nbformat_minor": 2
}
