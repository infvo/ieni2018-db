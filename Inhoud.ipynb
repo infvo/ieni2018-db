{
 "cells": [
  {
   "cell_type": "markdown",
   "metadata": {},
   "source": [
    "# Inhoud MongoDB notebooks"
   ]
  },
  {
   "cell_type": "markdown",
   "metadata": {},
   "source": [
    "* [Inleiding Jupyter](Inleiding-Jupyter.ipynb) - inleiding Jupyter Notebooks\n",
    "* [Connect](Connect.ipynb) - verbinding maken met MongoDB, query alle documenten\n",
    "* [Find](Find.ipynb) - meer queries (read/retrieve)\n",
    "    * enkelvoudige queries\n",
    "    * samengestelde queries (and, or)\n",
    "    * reguliere expressies (wildcard/jokers)\n",
    "    * projectie\n",
    "    * ontbrekende velden\n",
    "    * meervoudige waarden\n",
    "* [C(R)UD](CRUD.ipynb) - toevoegen, aanpassen en verwijderen (create, update, delete)\n",
    "    * toevoegen (insert)\n",
    "    * aanpassen (update) - inclusief toevoegen en verwijderen van velden (properties)\n",
    "    * verwijderen (delete)\n",
    "* [Aggregatie](Aggregatie.ipynb) - aggregatie\n",
    "    * aggregate (bijv. count, sum, avg)\n",
    "    * group (group by)\n",
    "* [Join](Join.ipynb)\n",
    "    * referencing versus embedding\n",
    "    * joins\n",
    "    * (de)normalisatie    \n",
    "* [Schema](Schema.ipynb) - lokaal schema (met MongoDB validator)\n",
    "* [Linked data (1)](Linked-data-1.ipynb) - globale schema, linked data\n"
   ]
  },
  {
   "cell_type": "markdown",
   "metadata": {},
   "source": [
    "## Reguliere expressies\n",
    "\n",
    "Voor het formuleren van zoekopdrachten met reguliere expressies is enige kennis van de `re`-module in Python wenselijk.\n",
    "Zie: "
   ]
  },
  {
   "cell_type": "markdown",
   "metadata": {},
   "source": [
    "## JSON\n",
    "\n",
    "De MongoDB-notatie voor documenten is BSON; dit is afgeleid van JSON.\n",
    "\n",
    "Voor het werken met MongoDB is enige kennis van JSON en het werken hiermee in Python nodig.\n",
    "Zie:"
   ]
  },
  {
   "cell_type": "markdown",
   "metadata": {},
   "source": [
    "## Over schema\n",
    "\n",
    "* eerst: lokaal schema, voor lokale \"standaardisatie\" van contact-documenten\n",
    "* dan: gebruik van globale schema, voor globale standaardisatie van *velden* van contact-documenten.\n",
    "    * in combinatie met Linked (Open) Data, voor uitwisseling van gegevens."
   ]
  },
  {
   "cell_type": "code",
   "execution_count": null,
   "metadata": {},
   "outputs": [],
   "source": []
  }
 ],
 "metadata": {
  "kernelspec": {
   "display_name": "Python 3",
   "language": "python",
   "name": "python3"
  },
  "language_info": {
   "codemirror_mode": {
    "name": "ipython",
    "version": 3
   },
   "file_extension": ".py",
   "mimetype": "text/x-python",
   "name": "python",
   "nbconvert_exporter": "python",
   "pygments_lexer": "ipython3",
   "version": "3.6.8"
  }
 },
 "nbformat": 4,
 "nbformat_minor": 2
}
