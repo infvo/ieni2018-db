{
 "cells": [
  {
   "cell_type": "markdown",
   "metadata": {},
   "source": [
    "## Aanmaken van de database"
   ]
  },
  {
   "cell_type": "markdown",
   "metadata": {},
   "source": [
    "In de volgende opdrachten voer je allerlei queries uit op een database.\n",
    "Je moeten dan eerst wel een database met inhoud hebben.\n",
    "Met de onderstaande opdrachten maak je deze database.\n",
    "Deze opdrachten hoef je maar één keer uit te voeren: de database blijft bestaan, met je veranderingen.\n",
    "Je kunt deze opdrachten ook uitvoeren om opnieuw te beginnen, in een goed gedefinieerde toestand."
   ]
  },
  {
   "cell_type": "code",
   "execution_count": null,
   "metadata": {},
   "outputs": [],
   "source": [
    "import sqlite3\n",
    "db = sqlite3.connect('example.db')\n",
    "cursor = db.cursor()"
   ]
  },
  {
   "cell_type": "markdown",
   "metadata": {},
   "source": [
    "We maken de tabel(len) aan.\n",
    "We verwijderen eerst een eventueel bestaande versie van de tabel(len):\n",
    "we hebben dan een goed gedefinieerde toestand.\n",
    "\n",
    "> Opmerking: er zijn kleine verschillen in de notatie van de constraints bij het aanmaken van een tabel; MySQL gebruikt bijvoorbeeld een andere notatie dan Oracle."
   ]
  },
  {
   "cell_type": "code",
   "execution_count": null,
   "metadata": {},
   "outputs": [],
   "source": [
    "cursor.execute('''DROP TABLE IF EXISTS leden;''')\n",
    "cursor.execute('''CREATE TABLE leden(\n",
    "                    lidnr INTEGER PRIMARY KEY,\n",
    "                    voornaam VARCHAR(255) NOT NULL,\n",
    "                    achternaam VARCHAR(255) NOT NULL,\n",
    "                    email VARCHAR(255) NOT NULL UNIQUE\n",
    "                  );''')"
   ]
  },
  {
   "cell_type": "markdown",
   "metadata": {},
   "source": [
    "We hebben een voorbeeld-inhoud van de tabel(len) in csv-bestanden.\n",
    "(Een voordeel daarvan is dat we deze gemakkelijk kunnen aanpassen in een teksteditor.)\n",
    "Voor het importeren van een csv-bestand gebruiken we een speciale SQLite-opdracht, via de shell.\n",
    "(Een alternatief is om dit bestand te importeren via pandas.)"
   ]
  },
  {
   "cell_type": "code",
   "execution_count": null,
   "metadata": {},
   "outputs": [],
   "source": [
    "%%bash\n",
    "sqlite3 example.db\n",
    ".mode csv\n",
    ".import leden.csv leden"
   ]
  },
  {
   "cell_type": "markdown",
   "metadata": {},
   "source": [
    "Hieronder een voorbeeld van een SQL-opdracht die we rechtstreeks in SQLite uitvoeren."
   ]
  },
  {
   "cell_type": "code",
   "execution_count": null,
   "metadata": {},
   "outputs": [],
   "source": [
    "%%bash\n",
    "sqlite3 example.db\n",
    "SELECT * FROM leden;"
   ]
  },
  {
   "cell_type": "markdown",
   "metadata": {},
   "source": [
    "Eenzelfde opdracht, nu als onderdeel van een Python-programma:"
   ]
  },
  {
   "cell_type": "code",
   "execution_count": null,
   "metadata": {},
   "outputs": [],
   "source": [
    "cursor.execute('''SELECT * FROM leden;''')\n",
    "for row in cursor:\n",
    "    print(row)"
   ]
  },
  {
   "cell_type": "markdown",
   "metadata": {},
   "source": [
    "We volgende hetzelfde patroon voor de tweede tabel: inschrijvingen."
   ]
  },
  {
   "cell_type": "code",
   "execution_count": null,
   "metadata": {},
   "outputs": [],
   "source": [
    "cursor.execute('''DROP TABLE IF EXISTS inschrijvingen;''')\n",
    "cursor.execute('''CREATE TABLE inschrijvingen(\n",
    "                  inschrijfnr INTEGER, \n",
    "                  lidnr INTEGER,\n",
    "                  datum VARCHAR(255) NOT NULL,\n",
    "                  maaltijd VARCHAR(255),\n",
    "                  PRIMARY KEY (inschrijfnr),\n",
    "                  FOREIGN KEY (lidnr) REFERENCES leden (lidnr),\n",
    "                  CONSTRAINT name UNIQUE (lidnr, datum)\n",
    "                  );''')"
   ]
  },
  {
   "cell_type": "code",
   "execution_count": null,
   "metadata": {},
   "outputs": [],
   "source": [
    "%%bash\n",
    "sqlite3 example.db\n",
    ".mode csv\n",
    ".import inschrijvingen.csv inschrijvingen"
   ]
  },
  {
   "cell_type": "code",
   "execution_count": null,
   "metadata": {},
   "outputs": [],
   "source": [
    "cursor.execute('''SELECT * FROM inschrijvingen;''')\n",
    "for row in cursor:\n",
    "    print(row)"
   ]
  },
  {
   "cell_type": "markdown",
   "metadata": {},
   "source": [
    "## Database connection en cursor\n",
    "\n",
    "De eerste stap in het gebruik van database-opdrachten in Python is het maken van een verbinding (connection) met de database.\n",
    "Met behulp van deze connection maak je een cursor-object, waarmee je de database-queries kunt uitvoeren.\n",
    "\n",
    "Bij veranderingen in de database is het belangrijk om `db.commit()` uit te voeren: de veranderingen worden daarmee permanent gemaakt."
   ]
  },
  {
   "cell_type": "code",
   "execution_count": null,
   "metadata": {},
   "outputs": [],
   "source": [
    "import sqlite3\n",
    "db = sqlite3.connect('example.db')\n",
    "cursor = db.cursor()"
   ]
  },
  {
   "cell_type": "code",
   "execution_count": null,
   "metadata": {},
   "outputs": [],
   "source": [
    "cursor.execute('''SELECT * FROM leden;''')\n",
    "for row in cursor:\n",
    "    print(row)"
   ]
  },
  {
   "cell_type": "markdown",
   "metadata": {},
   "source": [
    "## Selectie\n",
    "\n",
    "Je kunt de waarden van een tabel selecteren op basis van een voorwaarde.\n",
    "In de SQL SELECT-opdracht geef je de conditie op na `WHERE`.\n",
    "Dit kunt condities samenstellen met behulp van logische en rekenkundige opereratoren, zoals vergelijkingen."
   ]
  },
  {
   "cell_type": "code",
   "execution_count": null,
   "metadata": {},
   "outputs": [],
   "source": [
    "cursor.execute('''SELECT * FROM leden lid\n",
    "                  WHERE lid.lidnr > 1;''')\n",
    "for row in cursor:\n",
    "    print(row)"
   ]
  },
  {
   "cell_type": "markdown",
   "metadata": {},
   "source": [
    "## Projectie\n",
    "\n",
    "Je kunt selectie combineren met *projectie*: daarin geef je aan welke kolommen in het resultaat voorkomen.\n",
    "De andere kolommen worden weggelaten.\n",
    "\n",
    "In de SQL SELECT-opdracht geef je de namen van de kolommen van de projectie als eerste op.\n",
    "De volgorde mag daarbij anders zijn dan in de oorspronkelijke tabel:\n",
    "je kijgt als resultaat een tabel met de kolommen die je opgeeft."
   ]
  },
  {
   "cell_type": "code",
   "execution_count": null,
   "metadata": {},
   "outputs": [],
   "source": [
    "cursor.execute('''SELECT email, achternaam FROM leden;''')\n",
    "for row in cursor:\n",
    "    print(row)"
   ]
  },
  {
   "cell_type": "markdown",
   "metadata": {},
   "source": [
    "Een tabel kan ook uit een enkele kolom bestaan:"
   ]
  },
  {
   "cell_type": "code",
   "execution_count": null,
   "metadata": {},
   "outputs": [],
   "source": [
    "cursor.execute('''SELECT voornaam FROM leden;''')\n",
    "for row in cursor:\n",
    "    print(row)"
   ]
  },
  {
   "cell_type": "markdown",
   "metadata": {},
   "source": [
    "(Zoals je ziet komen hierin rijen dubbel voor. Als je geen dubbele rijen wilt, gebruik je `SELECT UNIQUE`. - ????)"
   ]
  },
  {
   "cell_type": "markdown",
   "metadata": {},
   "source": [
    "## Cartesisch product\n",
    "\n",
    "Het cartesisch product van twee relaties (tabellen) bevat *alle combinaties* van de rijen van beide tabellen.\n",
    "\n",
    "* vraag: hoeveel rijen heeft een cartesisch product van twee tabellen met elk 1000 rijen? (1000; 2000; 1.000.000?)"
   ]
  },
  {
   "cell_type": "code",
   "execution_count": null,
   "metadata": {},
   "outputs": [],
   "source": [
    "cursor.execute('''SELECT *\n",
    "                  FROM leden, inschrijvingen;''')\n",
    "for row in cursor:\n",
    "    print(row)"
   ]
  },
  {
   "cell_type": "markdown",
   "metadata": {},
   "source": [
    "De meeste van deze combinaties zijn zinloos:\n",
    "in het onderstaande voorbeeld zijn we alleen geïnteresseerd in de rijen waarvan de lidnr's gelijk zijn.\n",
    "We selecteren de relevante rijen van het cartesisch product door middel van een `WHERE`-voorwaarde.\n",
    "Dit is een normaal patroon voor een *join*."
   ]
  },
  {
   "cell_type": "code",
   "execution_count": null,
   "metadata": {},
   "outputs": [],
   "source": [
    "cursor.execute('''SELECT *\n",
    "                  FROM leden lid, inschrijvingen ins\n",
    "                  WHERE lid.lidnr=ins.lidnr;''')\n",
    "for row in cursor:\n",
    "    print(row)"
   ]
  },
  {
   "cell_type": "markdown",
   "metadata": {},
   "source": [
    "We kunnen bovenstaande combinatie (join) van tabellen combineren met andere selectie-voorwaarden, en met project, zoals hieronder:\n"
   ]
  },
  {
   "cell_type": "code",
   "execution_count": null,
   "metadata": {},
   "outputs": [],
   "source": [
    "cursor.execute('''SELECT lid.voornaam, lid.achternaam, lid.email, \n",
    "                         ins.maaltijd\n",
    "                  FROM leden lid, inschrijvingen ins\n",
    "                  WHERE lid.lidnr=ins.lidnr AND ins.datum='23-06-2019'; ''')\n",
    "for row in cursor:\n",
    "    print(row)"
   ]
  },
  {
   "cell_type": "markdown",
   "metadata": {},
   "source": [
    "## Normalisatie\n",
    "\n",
    "De tabellen die we hierboven gebruiken zijn in normaalvorm: deze bevatten geen redundante gegevens.\n",
    "Elk basisgegeven komt maar één keer voor.\n",
    "Dat maakt het eenvoudiger om de database te veranderen op een consistende manier.\n",
    "\n",
    "De volgende tabel (als resultaat van een \"join\" bewerking) is niet genormaliseerd:\n",
    "je ziet dat dezelfde voornaam, achternaam en mail-adres meerdere malen voorkomen.\n",
    "Dat is de reden waarom we deze tabel berekenen, en de basisgegevens in verschillende tabellen ondergebracht hebben.\n"
   ]
  },
  {
   "cell_type": "code",
   "execution_count": null,
   "metadata": {},
   "outputs": [],
   "source": [
    "cursor.execute('''SELECT *\n",
    "                  FROM leden lid, inschrijvingen ins\n",
    "                  WHERE lid.lidnr=ins.lidnr;''')\n",
    "for row in cursor:\n",
    "    print(row)"
   ]
  },
  {
   "cell_type": "markdown",
   "metadata": {},
   "source": [
    "## Schema\n",
    "\n",
    "Het *schema* van een database beschrijft de structuur: de tabellen, kolomnamen, types en constraints.\n",
    "Dit kun je bijvoorbeeld weergeven in de vorm van de \"create table\" opdrachten:"
   ]
  },
  {
   "cell_type": "code",
   "execution_count": null,
   "metadata": {},
   "outputs": [],
   "source": [
    "%%bash\n",
    "sqlite3 example.db\n",
    ".databases\n",
    ".schema"
   ]
  },
  {
   "cell_type": "markdown",
   "metadata": {},
   "source": [
    "Je kunt het schema (de structuur) van een tabel ook in SQL opvragen."
   ]
  },
  {
   "cell_type": "code",
   "execution_count": null,
   "metadata": {},
   "outputs": [],
   "source": [
    "cursor.execute('''SELECT sql FROM sqlite_master WHERE name='leden';''')\n",
    "for row in cursor:\n",
    "    print(row[0])"
   ]
  },
  {
   "cell_type": "markdown",
   "metadata": {},
   "source": [
    "Voor de kolomnamen van sqlite_master, zie: https://www.techonthenet.com/sqlite/sys_tables/index.php\n",
    "\n",
    "* type\n",
    "* name\n",
    "* tbl_name\n",
    "* rootpage\n",
    "* sql"
   ]
  },
  {
   "cell_type": "markdown",
   "metadata": {},
   "source": [
    "**Opmerking** Eén van de eigenschappen van een relationeel database management systeem (RDBMS) is dat het schema van een database zelf in een (beheer)database opgeslagen is. Via deze database kun je dan de namen van de tabellen, de namen en types van de kolommen, en de constraints opvragen."
   ]
  },
  {
   "cell_type": "markdown",
   "metadata": {},
   "source": [
    "## Opmerkingen\n",
    "\n",
    "* zie: http://www.sqlitetutorial.net/sqlite-import-csv/\n",
    "* het is handiger om de tabel eerst aan te maken, en dan de CSV te importeren:\n",
    "  dan kun je het type van de kolommen aangeven, de csv bevat alleen de kolomnamen\n",
    "* hoe geven we aan wat de key is?\n",
    "* naamgeving: gebruiken we voor entiteiten en voor de bijbehorende tabellen enkelvoud of meervoud? (Volgens mij is de meer gebruikelijke methode: enkelvoud.)\n",
    "    * ==> als in Toon's boek: (i) voor Entiteiten, enkelvoud; (ii) voor tabellen, meervoud; (iii) bij condities (`WHERE`), als enkelvoud logischer is, alias in enkelvoud gebruiken."
   ]
  },
  {
   "cell_type": "code",
   "execution_count": null,
   "metadata": {},
   "outputs": [],
   "source": [
    "cursor.execute('''INSERT INTO leden (voornaam, achternaam, email) \n",
    "                  VALUES (?, ?, ?);''', \n",
    "                  ('Jan', 'Visser', 'jvisser@gmail.com'))\n",
    "db.commit()"
   ]
  },
  {
   "cell_type": "code",
   "execution_count": null,
   "metadata": {},
   "outputs": [],
   "source": [
    "cursor.execute('''SELECT * FROM leden''')\n",
    "for row in cursor:\n",
    "    print(row)"
   ]
  },
  {
   "cell_type": "code",
   "execution_count": null,
   "metadata": {},
   "outputs": [],
   "source": [
    "cursor.execute('''INSERT INTO leden (voornaam, achternaam, email) \n",
    "                  VALUES (?, ?, ?);''', \n",
    "                  ('Jan', 'Visser', 'jvisser@gmail.com'))"
   ]
  },
  {
   "cell_type": "code",
   "execution_count": null,
   "metadata": {},
   "outputs": [],
   "source": [
    "cursor.execute('''SELECT * FROM leden;''')\n",
    "for row in cursor:\n",
    "    print(row)"
   ]
  },
  {
   "cell_type": "code",
   "execution_count": null,
   "metadata": {},
   "outputs": [],
   "source": [
    "cursor.execute('''INSERT INTO leden (lidnr, voornaam, achternaam, email) \n",
    "                  VALUES (?, ?, ?, ?);''', \n",
    "                  (4, 'Jan', 'Visser', 'jvisser@gmail.com'))"
   ]
  },
  {
   "cell_type": "markdown",
   "metadata": {},
   "source": [
    "**Opmerking**: SQLite heeft voor een INTEGER KEY automatisch een AUTOINCREMENT; het gebruik van het keyword AUTOINCREMENT geeft dan een andere betekenis, en moet eigenlijk vermeden worden. (https://www.sqlite.org/autoinc.html)\n",
    "Dit kan bij andere database-systemen anders zijn!"
   ]
  },
  {
   "cell_type": "code",
   "execution_count": null,
   "metadata": {},
   "outputs": [],
   "source": [
    "try:\n",
    "    cursor.execute('''INSERT INTO leden (voornaam, achternaam, email) \n",
    "                  VALUES (?, ?, ?);''', \n",
    "                  ('Jan', 'Visser', 'jvisser@gmail.com'))\n",
    "except sqlite3.IntegrityError as e:\n",
    "    print(e)\n",
    "    "
   ]
  },
  {
   "cell_type": "markdown",
   "metadata": {},
   "source": [
    "Met behulp van het Python exception-mechamisme kun je fouten in de uitvoering van een sqlite-opdracht opvangen, en omzetten in een foutmeling (aan de gebruiker?)\n",
    "\n",
    "(We kunnen eventueel verschillende soorten fouten onderscheiden, bijv. integriteitsfouten zoals hierboven.)"
   ]
  },
  {
   "cell_type": "markdown",
   "metadata": {},
   "source": [
    "Welk soort fouten verwachten we?\n",
    "\n",
    "* toevoegen van een gebruiker die al bestaat (bestaande email, zoals hierboven);\n",
    "* toevoegen van een inschrijving die al bestaat (combinatie van lidnr en datum???); kun je dit als constraint invoeren? Ja! Dat betekent dat we deze niet zelf hoeven te controleren: in het algemeen is het beter om de DB het werk te laten doen. Dit vereenvoudigt onze programma's (maar we moeten wel de exceptions uitprogrammeren...)"
   ]
  },
  {
   "cell_type": "markdown",
   "metadata": {},
   "source": [
    "**Vraag:** hoe kun je een list omzetten in een reeks waarden, bijvoorbeeld voor `format`?\n",
    "Dat kan met behulp van de splat-operatie: `*list`."
   ]
  },
  {
   "cell_type": "markdown",
   "metadata": {},
   "source": [
    "## CRUD"
   ]
  },
  {
   "cell_type": "markdown",
   "metadata": {},
   "source": [
    "Met het acroniem CRUD geven we de basisoperaties op een database aan: Create, Read, Update, en Delete.\n",
    "Hieronder geven we de SQL-opdrachten die daarmee overeenkomen. We geven daarbij ook aan hoe deze samenhangen met eventuele constraints van de database.\n",
    "\n",
    "De CRD-operaties veranderen de database: je maakt deze veranderingen permanent met behulp van `db.commit()`. Vergeet deze niet in je programma's! Je kunt meerdere CRD-operaties combineren voor deze commit: je krijgt dan een *transactie* die uit meerdere opdrachten bestaat."
   ]
  },
  {
   "cell_type": "markdown",
   "metadata": {},
   "source": [
    "### Create (INSERT)\n",
    "\n",
    "Met de INSERT opdracht voegen we een nieuwe rij aan een tabel toe (create):"
   ]
  },
  {
   "cell_type": "code",
   "execution_count": null,
   "metadata": {},
   "outputs": [],
   "source": [
    "inschrijving = (3, '30-06-2019', 'Maaltijd A')\n",
    "cursor.execute('''INSERT INTO inschrijvingen (lidnr, datum, maaltijd) \n",
    "                  VALUES (?, ?, ?);''', \n",
    "                  inschrijving)"
   ]
  },
  {
   "cell_type": "code",
   "execution_count": null,
   "metadata": {},
   "outputs": [],
   "source": [
    "cursor.execute('''SELECT * FROM inschrijvingen''')\n",
    "for row in cursor:\n",
    "    print(row)"
   ]
  },
  {
   "cell_type": "markdown",
   "metadata": {},
   "source": [
    "Nogmaals uitvoeren geeft een IntegrityError (exception):\n",
    "we hebben immers aangegeven dat de combinatie van `lidnr` en `datum` uniek moet zijn (constraint)."
   ]
  },
  {
   "cell_type": "code",
   "execution_count": null,
   "metadata": {},
   "outputs": [],
   "source": [
    "cursor.execute('''INSERT INTO inschrijvingen (lidnr, datum, maaltijd) \n",
    "                  VALUES (?, ?, ?);''', \n",
    "                  inschrijving)"
   ]
  },
  {
   "cell_type": "markdown",
   "metadata": {},
   "source": [
    "Met behulp van het Python exception-mechamisme kunnen we dergelijke fouten opvangen,\n",
    "en eventueel omzetten in een andere foutmelding - bijvoorbeeld een foutmelding naar de gebruiker,\n",
    "dat hij zich al eerder voor deze event ingeschreven heebt."
   ]
  },
  {
   "cell_type": "code",
   "execution_count": null,
   "metadata": {},
   "outputs": [],
   "source": [
    "try:\n",
    "    cursor.execute('''INSERT INTO inschrijvingen (lidnr, datum, maaltijd) \n",
    "                  VALUES (?, ?, ?);''', \n",
    "                  inschrijving)\n",
    "except sqlite3.IntegrityError as e:\n",
    "    print(e)\n",
    "    print('Gebruiker {} heeft zich eerder aangemeld voor {}'.format(*inschrijving))"
   ]
  },
  {
   "cell_type": "markdown",
   "metadata": {},
   "source": [
    "**Opmerking** de splat-operatie `*inschrijving` zet de lijst `inschrijving` om in een lijst van parameters - hier voor `format`."
   ]
  },
  {
   "cell_type": "markdown",
   "metadata": {},
   "source": [
    "### Read (SELECT)\n",
    "\n",
    "Met de SELECT-opdracht zoals we hierboven gebruikt hebben kun je de data uit de database lezen.\n",
    "Het resultaat van SELECT is altijd een tabel; in sommige gevallen bestaat deze uit 1 rij, als we een bestaande rij willen lezen. Soms is de tabel leeg: er zijn dan geen rijen gevonden die aan de voorwaarde voldoen."
   ]
  },
  {
   "cell_type": "markdown",
   "metadata": {},
   "source": [
    "## Update (UPDATE)\n",
    "\n",
    "Met de UPDATE opdracht kun je een bestaande rij selectief veranderen.\n",
    "In het onderstaande voorbeeld passen we de maaltijd-waarde aan:"
   ]
  },
  {
   "cell_type": "code",
   "execution_count": null,
   "metadata": {},
   "outputs": [],
   "source": [
    "maaltijd = 'maaltijd B'\n",
    "cursor.execute('''UPDATE inschrijvingen\n",
    "                  SET maaltijd= ?\n",
    "                  WHERE lidnr=3 AND datum='30-06-2019';''',\n",
    "                  (maaltijd,))"
   ]
  },
  {
   "cell_type": "code",
   "execution_count": null,
   "metadata": {},
   "outputs": [],
   "source": [
    "cursor.execute('''SELECT * FROM inschrijvingen;''')\n",
    "for row in cursor:\n",
    "    print(row)"
   ]
  },
  {
   "cell_type": "markdown",
   "metadata": {},
   "source": [
    "* Ga na dat herhalen van deze opdracht hetzelfde resultaat oplevert.\n",
    "* Ga na dat een update voor een lege selectie geen foutmelding oplevert.\n",
    "* Ga na wat er gebeurt als je de datum-voorwaarde weglaat. (Kun je in een UPDATE opdracht meerdere rijen kunt veranderen?)"
   ]
  },
  {
   "cell_type": "markdown",
   "metadata": {},
   "source": [
    "### Delete (DELETE)\n",
    "\n",
    "Met de DELETE opdracht verwijder je een rij uit de database."
   ]
  },
  {
   "cell_type": "code",
   "execution_count": null,
   "metadata": {},
   "outputs": [],
   "source": [
    "selection = (3, '30-06-2019')\n",
    "cursor.execute('''DELETE FROM inschrijvingen\n",
    "                  WHERE lidnr=? and datum=?;''',\n",
    "                  selection)"
   ]
  },
  {
   "cell_type": "code",
   "execution_count": null,
   "metadata": {},
   "outputs": [],
   "source": [
    "cursor.execute('''SELECT * FROM inschrijvingen;''')\n",
    "for row in cursor:\n",
    "    print(row)"
   ]
  },
  {
   "cell_type": "markdown",
   "metadata": {},
   "source": [
    "Herhalen van deze opdracht levert geen problemen op: het verwijderen van een niet-bestaand element slaagt \"per definitie\". DELETE is een *idempotente* opdracht: deze heeft dezelfde betekenis als je deze eenmaal of vaker uitvoert."
   ]
  },
  {
   "cell_type": "code",
   "execution_count": null,
   "metadata": {},
   "outputs": [],
   "source": []
  },
  {
   "cell_type": "markdown",
   "metadata": {},
   "source": [
    "## Opmerkingen/ToDo's\n",
    "\n",
    "ToDo:\n",
    "\n",
    "* [ ] toevoegen vb. van fetchone met tuple-assignment"
   ]
  },
  {
   "cell_type": "code",
   "execution_count": null,
   "metadata": {},
   "outputs": [],
   "source": []
  }
 ],
 "metadata": {
  "kernelspec": {
   "display_name": "Python 3",
   "language": "python",
   "name": "python3"
  },
  "language_info": {
   "codemirror_mode": {
    "name": "ipython",
    "version": 3
   },
   "file_extension": ".py",
   "mimetype": "text/x-python",
   "name": "python",
   "nbconvert_exporter": "python",
   "pygments_lexer": "ipython3",
   "version": "3.6.8"
  }
 },
 "nbformat": 4,
 "nbformat_minor": 2
}
