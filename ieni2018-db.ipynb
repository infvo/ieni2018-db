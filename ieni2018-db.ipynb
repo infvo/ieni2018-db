{
 "cells": [
  {
   "cell_type": "markdown",
   "metadata": {},
   "source": [
    "# Keuzethema databases\n",
    "\n"
   ]
  },
  {
   "cell_type": "markdown",
   "metadata": {},
   "source": [
    "## Organisatie van het materiaal (en status)\n",
    "\n",
    "* examenprogramma\n",
    "* nascholing?\n",
    "* download\n",
    "* "
   ]
  },
  {
   "cell_type": "markdown",
   "metadata": {},
   "source": [
    "### Inleiding data en databases (P.M.)\n",
    "\n",
    "Dit is in principe onderdeel van het basisprogramma.\n",
    "\n",
    "(We komen waarschijnlijk wel met een samenvatting.)\n",
    "\n",
    "* data en informatie\n",
    "* gestructureerde data\n",
    "    * namen en types\n",
    "         * elementaire (data) types\n",
    "         * samenstellingen (record/object, array, dictionary etc.)\n",
    "         * (abstracte datastructuren?)\n",
    "    * vb: data in programmeertalen\n",
    "    * vb: JSON etc.\n",
    "* data in tabellen\n",
    "    * CSV-bestanden; spreadsheets\n",
    "* schema (beschrijft structuur):\n",
    "    * per document (JSON, XML, YAML etc.) - \"self describing data\"\n",
    "        * vb: MongoDB\n",
    "    * per database (SQL)\n",
    "    * world wide web (Linked Data)\n",
    "        * gebruik van URLs (namen) en *benoemde* links (getypeerde verwijzingen???).\n",
    "        * NB: het gaat dan niet om het type van de resource waarnaar verwezen wordt, maar om het type van de verwijzing.\n",
    "        * (wat stelt deze verwijzing voor?)"
   ]
  },
  {
   "cell_type": "markdown",
   "metadata": {},
   "source": [
    "### SQL (Frans Peeters)\n",
    "\n",
    "Gebruik van SQL voor het bevragen en veranderen van een bestaande database.\n",
    "\n",
    "* interactief materiaal (http://db.informaticavo.nl)\n",
    "* eerste interne testen \n",
    "* beschikbaar voor testen door andere docenten\n",
    "* (hoe is de feedback geregeld?)\n",
    "* (is er een docentenhandleiding?)\n",
    "\n",
    "* omvang van het materiaal?\n",
    "* HAVO?\n",
    "* VWO?"
   ]
  },
  {
   "cell_type": "markdown",
   "metadata": {},
   "source": [
    "### Database-ontwerp (Marc Castenmiller)\n",
    "\n",
    "* vooral gericht op *logisch ontwerp*\n",
    "    * \"werken op papier\"\n",
    "* conceptueel lastig onderwerp: vraagt goede begeleiding van de docent\n",
    "* materiaal online beschikbaar (PDF)\n",
    "* (feedback?)\n",
    "* (docentenhandleiding?)\n",
    "\n",
    "* omvang van het materiaal?\n",
    "* HAVO?\n",
    "* VWO?\n",
    "\n",
    "Hoofdstukken:\n",
    "\n",
    "* Inleiding database-ontwerp\n",
    "    * analyse; logisch ontwerp; fysisch ontwerp; gebruik/beheer\n",
    "    * modellering <<<<\n",
    "* Entiteiten en attributen\n",
    "* Relaties\n",
    "* \n"
   ]
  },
  {
   "cell_type": "markdown",
   "metadata": {},
   "source": [
    "### NoSQL en Linked Data (Eelco Dijkstra)\n",
    "\n",
    "* interactief materiaal (MongoDB in Python, via Jupyter Notebooks)\n",
    "* (begeleidende tekst nog in bewerking)\n",
    "* nog niet getest (zie workshop)\n",
    "* (feedback???)\n",
    "* (docentenhandleiding???)\n",
    "\n",
    "* omvang van het materiaal?\n",
    "* HAVO?\n",
    "* VWO?"
   ]
  },
  {
   "cell_type": "markdown",
   "metadata": {},
   "source": [
    "## De workshop"
   ]
  },
  {
   "cell_type": "markdown",
   "metadata": {},
   "source": [
    "### SQL (Frans)\n",
    "\n",
    "* aan de slag met het interactieve materiaal"
   ]
  },
  {
   "cell_type": "markdown",
   "metadata": {},
   "source": [
    "### Database-ontwerp (Marc)\n",
    "\n",
    "* (NB: focus op logisch ontwerp, niet op analyse of op fysiek (fysisch?) ontwerp)\n",
    "* aan de slag - met pen en papier (potlood?)"
   ]
  },
  {
   "cell_type": "markdown",
   "metadata": {},
   "source": [
    "### NoSQL (MongoDB) en Linked Data (Eelco)\n",
    "\n",
    "* aan de slag met MongoDB (in Python/Jupyter Notebook)\n",
    "* korte inleiding Linked Data (gebruik van URLs als namen)"
   ]
  }
 ],
 "metadata": {
  "kernelspec": {
   "display_name": "Python 3",
   "language": "python",
   "name": "python3"
  },
  "language_info": {
   "codemirror_mode": {
    "name": "ipython",
    "version": 3
   },
   "file_extension": ".py",
   "mimetype": "text/x-python",
   "name": "python",
   "nbconvert_exporter": "python",
   "pygments_lexer": "ipython3",
   "version": "3.6.5"
  }
 },
 "nbformat": 4,
 "nbformat_minor": 2
}
