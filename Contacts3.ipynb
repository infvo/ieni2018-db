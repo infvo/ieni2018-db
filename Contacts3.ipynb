{
 "cells": [
  {
   "cell_type": "markdown",
   "metadata": {},
   "source": [
    "# Contacts3: normalisatie\n",
    "\n",
    "## >>Nog incompleet<<"
   ]
  },
  {
   "cell_type": "markdown",
   "metadata": {},
   "source": [
    "## Normalisatie in relationele databases\n",
    "\n",
    "Bij het ontwerpen van een relationele database probeer je deze meestal te normaliseren.\n",
    "Het doel van deze normalisatie is om ervoor te zorgen dat alle gegevens in de database \"onafhankelijk\" zijn, \n",
    "of anders gezegd, dat een bepaald gegeven maar op één plaats in de database voorkomt.\n",
    "\n",
    "De belangrijkste reden voor deze normalisatie is dat dit het veranderen van de database op een consistente manier sterkt vereenvoudigt.\n",
    "Immers, als een gegeven op meerdere plaatsen voor kan komen, dan moet je bij een verandering al deze verschillende plaatsen bijwerken, om weer een consistente database-toestand te krijgen.\n",
    "\n",
    "> Voorbeeld: als het adres van een persoon op 3 plaatsen in de database voorkomt, dan moet je bij een verhuizing al deze 3 plaatsen bijwerken. Als je er één of twee vergeet dat is helemaal niet meer duidelijk welk adres nu het juiste is.\n",
    "\n",
    "Een andere reden is dat deze normalisatie, door het voorkomen van duplicatie, tot een compactere database leidt: het spaart ruimte.\n",
    "Dit argument is tegenwoordig minder sterk dan vroeger, toen ruimte voor data schaars en duur was.\n",
    "\n",
    "Normalisatie heeft ook nadelen.\n",
    "Het belangrijkste nadeel is dat je bij het opvragen van de data uit de database vaak één of meerdere joins nodig hebt:\n",
    "je moet de waarden uit verschillende tabellen combineren tot het gevraagde resultaat.\n",
    "Dit leidt bij leesopdrachten (queries) tot extra leesopdrachten voor de verschillende tabellen.\n",
    "\n",
    "Overigens is de basisopzet van relationele databases sterk gericht op het toewijzen van data aan verschillende tabellen.\n",
    "Zo moet je meervoudige relaties voorstellen met meerdere tabellen enn met verwijzingen tussen deze tabellen (via *foreign keys*), omdat een rij geen meervoudige waarden kan bevatten.\n",
    "(Voorbeeld: je kunt niet een array van telefoonnummers in een rij opnemen.)\n",
    "\n",
    "> Je kunt dit voor kleine arrays misschien oplossen door ruimte voor een paar waarden op te nemen, bijvoorbeeld voor 3 telefoonnummers. Maar dat leidt enerzijds tot beperkingen waar je later tegenaan loopt - als je er 4 nodig hebt, en anderzijds tot extra gaten in de tabel voor die rijen die deze meervoudige ruimte niet gebruiken. \n",
    "\n",
    "## Normalisatie in MongoDB\n",
    "\n",
    "In MongoDB kun je in een document andere documenten opnemen (embedden).\n",
    "Je kunt zelfs arrays van documenten opnemen in een document.\n",
    "\n",
    "Dit kan leiden tot duplicatie van deel-documenten, met het genoemde probleem van wijzigen van deze deel-documenten tot gevolg.\n",
    "\n",
    "In plaats van embedding kun je ook *referenties* naar andere documenten gebruiken (via de `_id` van die documenten, eigenlijk een *foreign key*).\n",
    "MongoDB heeft geen ingebouwde mogelijkheden voor *joins*:\n",
    "als applicatieprogrammeur moet je deze referenties zelf oplossen, door een query met de `_id` in de betreffende collectie.\n",
    "\n",
    "Net als bij het gebruik van schema's kun je als ontwerper van de database zelf bepalen waar je de grens legt tussen het gebruik van embedding en het gebruik van referenties.\n",
    "\n",
    "## Voorbeeld: verwijzingen naar andere contacten\n",
    "\n",
    "In onze contacten-database kunnen zowel personen als organisaties voorkomen.\n",
    "Een persoon kan in dienst zijn van een bedrijf:\n",
    "in dat geval kun je een verwijzing naar het bedrijf in de contactgegevens van de persoon opnemen.\n",
    "\n",
    "Je kunt deze verwijzing naar het bedrijf ook voor een deel *de-normaliseren*:\n",
    "als je in de meeste queries naar de persoon alleen de naam van het bedrijf nodig hebt,\n",
    "dan kun je die ook bij de persoonsgegevens opnemen, naast de verwijzing naar de contactgegevens van het bedrijf.\n",
    "(De naam van het bedrijf zou je ook als *key* kunnen gebruiken? Dat is meestal niet handig... De naam van het bedrijf hoeft niet uniek te zijn; dit is bovendien een eigenschap die niet snel zal veranderen.)\n",
    "Je hoeft dan alleen een *join* uit te voeren als je voor die persoon ook andere bedrijfsgegevens nodig hebt.\n",
    "\n",
    "> Ik zou mogelijk het \"employer\"-veld introduceren; in schema.org is dat `worksFor`, maar dat zou je ook breder kunnen opvatten - ook een zzp-er kan voor een andere organisatie werken. Dat blijkt ook uit de beschrijving: \"organizations (mv!) this person works for\".\n"
   ]
  },
  {
   "cell_type": "markdown",
   "metadata": {},
   "source": [
    "## Opmerkingen\n",
    "\n",
    "* een andere collection die we zouden kunnen hebben is *events*, bijvoorbeeld voor afspraken in een agenda.\n",
    "\n",
    "Het ligt voor de hand om in een event-document verwijzingen op te nemen van de mogelijke deelnemers aan dit event.\n",
    "Het ligt niet voor de hand om de complete contactgegevens van deze personen in het event-document op te nemen.\n",
    "Het is wel mogelijk om een deel van deze contactgegevens op te nemen, bijvoorbeeld de naam, naast een verwijzing naar het complete contact-document. (Die naam hoeft dan ook niet uniek te zijn; maar dit is een eigenschap die niet snel zal veranderen...)\n",
    "\n",
    "### Uitwerken voor fietsenverhuur?"
   ]
  },
  {
   "cell_type": "markdown",
   "metadata": {},
   "source": [
    "## Voorbeeld \n",
    "\n",
    "We breiden de contactgegevens voor een persoon uit met het (optionele) veld `employer_id`.\n",
    "Dit is een `_id` (foreign key) voor de contactgegevens voor de werkgever.\n",
    "\n",
    "Bij het ophalen van de contactgegevens van een persoon controleren we of deze een verwijzing heeft naar een werkgever.\n",
    "Als deze gedefinieerd is, halen we ook de contactgegevens van de werkgever op, voor de naam daarvan.\n",
    "\n",
    "In de voorbeeld-database hebben we ook een aantal organisaties opgenomen die als werkgever optreden.\n",
    "\n",
    "(We gebruiken in dit geval geen validator; in het schema zouden we dan zowel de persoons-variant als de organisatie-variant op moeten nemen.)\n",
    "\n"
   ]
  },
  {
   "cell_type": "code",
   "execution_count": null,
   "metadata": {},
   "outputs": [],
   "source": []
  }
 ],
 "metadata": {
  "kernelspec": {
   "display_name": "Python 3",
   "language": "python",
   "name": "python3"
  },
  "language_info": {
   "codemirror_mode": {
    "name": "ipython",
    "version": 3
   },
   "file_extension": ".py",
   "mimetype": "text/x-python",
   "name": "python",
   "nbconvert_exporter": "python",
   "pygments_lexer": "ipython3",
   "version": "3.6.5"
  }
 },
 "nbformat": 4,
 "nbformat_minor": 2
}
