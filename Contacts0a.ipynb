{
 "cells": [
  {
   "cell_type": "markdown",
   "metadata": {},
   "source": [
    "# Contacts-0a: Queries\n",
    "\n",
    "In dit notebook gaan verder we in op MongoDB-queries.\n",
    "\n",
    "We beginnen met de standaardacties voor het importeren van de belangrijkste libraries, om verbinding te maken met de database, en om de voorbeeld-data in te lezen.\n",
    "\n",
    "> Het resultaat van de laatste opdracht (mongoimport) moet 0 zijn, anders is er sprake van een probleem. Dit moet je eerst (laten) oplossen: doorgaan met de rest heeft dan geen zin."
   ]
  },
  {
   "cell_type": "markdown",
   "metadata": {},
   "source": [
    "## Initialisaties"
   ]
  },
  {
   "cell_type": "code",
   "execution_count": null,
   "metadata": {},
   "outputs": [],
   "source": [
    "import os\n",
    "import re\n",
    "import pandas as pd\n",
    "import numpy as np\n",
    "from IPython.core.display import display, HTML\n",
    "import pymongo\n",
    "\n",
    "pd.set_option('max_colwidth',160)\n",
    "\n",
    "userline = !echo $USER\n",
    "username = userline[0]\n",
    "dbname = username + \"-demodb\"\n",
    "print(\"Database name: \" + dbname)\n",
    "\n",
    "from pymongo import MongoClient\n",
    "print('Mongo version', pymongo.__version__)\n",
    "client = MongoClient('localhost', 27017)\n",
    "db = client[dbname]\n",
    "collection = db.contacts\n",
    "\n",
    "collection.drop()\n",
    "os.system('/usr/local/bin/mongoimport -d ' + dbname + ' -c contacts adressen.json')"
   ]
  },
  {
   "cell_type": "markdown",
   "metadata": {},
   "source": [
    "## Query: alle elementen\n",
    "\n",
    "Als controle op de database zoeken we alle elementen.\n",
    "(Voor een realistische database is dat ondoenlijk.)"
   ]
  },
  {
   "cell_type": "code",
   "execution_count": null,
   "metadata": {},
   "outputs": [],
   "source": [
    "cursor = collection.find()\n",
    "for obj in cursor:\n",
    "    print(obj)"
   ]
  },
  {
   "cell_type": "markdown",
   "metadata": {},
   "source": [
    "## Query: zoeken op naam\n",
    "\n",
    "De volgende opdracht is om de gegevens van een of meerdere personen te zoeken,\n",
    "op basis van een deel van de gegevens.\n",
    "We geven in de zoekopdracht een gedeeltelijk ingevuld document;\n",
    "de zoekopdracht vindt dan alle documenten die met die invulling overeenkomen.\n",
    "\n",
    "> Opmerking: dit komt overeen met het `where`-deel in een SQL-query."
   ]
  },
  {
   "cell_type": "code",
   "execution_count": null,
   "metadata": {},
   "outputs": [],
   "source": [
    "cursor1 = collection.find({\"name\": \"Anna Verschuur\"})\n",
    "for obj in cursor1:\n",
    "    print(obj)"
   ]
  },
  {
   "cell_type": "code",
   "execution_count": null,
   "metadata": {},
   "outputs": [],
   "source": [
    "cursor2 = collection.find({\"address.city\": \"Amsterdam\"})\n",
    "for obj in cursor2:\n",
    "    print(obj)"
   ]
  },
  {
   "cell_type": "markdown",
   "metadata": {},
   "source": [
    "**Opdracht** maak hieronder een query voor het zoeken van alle inwoners van Rotterdam in de database."
   ]
  },
  {
   "cell_type": "code",
   "execution_count": null,
   "metadata": {},
   "outputs": [],
   "source": []
  },
  {
   "cell_type": "markdown",
   "metadata": {},
   "source": [
    "## Find: reguliere expressies\n",
    "\n",
    "Met behulp van reguliere expressies kun je zoeken op waarden die voor een deel bepaald zijn. In het voorbeeld zoeken we op namen waar `schuur` in voorkomt.\n",
    "\n",
    "> MongoDB/pymongo gebruikt hiervoor de Python reguliere expressies, zie: https://docs.python.org/3/library/re.html en https://docs.python.org/3/howto/regex.html.\n",
    "\n",
    "> In het geval van SQL gebruik je hiervoor de LIKE constructie."
   ]
  },
  {
   "cell_type": "code",
   "execution_count": null,
   "metadata": {},
   "outputs": [],
   "source": [
    "cursor = collection.find({\"name\": re.compile(\"schuur\")})\n",
    "list(cursor)"
   ]
  },
  {
   "cell_type": "markdown",
   "metadata": {},
   "source": [
    "**Opdracht** Zoek personen die in Amsterdam of in Rotterdam wonen (door een handige reguliere expressie te kiezen)."
   ]
  },
  {
   "cell_type": "code",
   "execution_count": null,
   "metadata": {},
   "outputs": [],
   "source": []
  },
  {
   "cell_type": "markdown",
   "metadata": {},
   "source": [
    "## Zoeken naar één document\n",
    "\n",
    "Voor het zoeken naar één enkel document gebruik je: `find_one`.\n",
    "Als er geen document gevonden wordt is het resultaat `None`.\n",
    "(Dit is *de lege waarde* in Python.)"
   ]
  },
  {
   "cell_type": "code",
   "execution_count": null,
   "metadata": {},
   "outputs": [],
   "source": [
    "anna = collection.find_one({\"name\": \"Anna Verschuur\"})\n",
    "anna"
   ]
  },
  {
   "cell_type": "markdown",
   "metadata": {},
   "source": [
    "## Samengestelde queries\n",
    "\n",
    "Als je meerdere eigenschappen gebruikt in een query, dan heeft dit de betekenis van een \"and\":\n",
    "de gezochte documenten voldoen aan alle deel-eisen.\n",
    "\n",
    "Soms heb je andere samenstellingen nodig, bijvoorbeeld als je zoekt naar personen in Amsterdam of in Rotterdam.\n",
    "In dit geval gebruik je een `$or` met een lijst van deel-eisen."
   ]
  },
  {
   "cell_type": "code",
   "execution_count": null,
   "metadata": {},
   "outputs": [],
   "source": [
    "cursor5 = collection.find(\n",
    "    {\"$or\": [{\"address.city\": \"Rotterdam\"}, {\"address.city\": \"Amsterdam\"}]})\n",
    "list(cursor5)"
   ]
  },
  {
   "cell_type": "markdown",
   "metadata": {},
   "source": [
    "## Projectie\n",
    "\n",
    "In de voorbeelden hierboven hebben we de complete documenten laten zien.\n",
    "Vaak zijn we maar in bepaalde onderdelen geïnteresseerd.\n",
    "In een *projectie* geven we de gewenste onderdelen van het resultaat aan.\n",
    "Zo'n projectie bevat de velden van het document die we willen zien, met een \"1\" als waarde.\n",
    "We kunnen ook aangeven welke velden we willen weglaten (exclusie): die geven we aan met een \"0\" als waarde.\n",
    "Dit gebruiken we bijvoorbeeld als we de *key* (`_id`) niet nodig hebben.\n",
    "\n",
    "> Opmerking: projectie komt overeen met het SELECT-deel in een SQL-query"
   ]
  },
  {
   "cell_type": "code",
   "execution_count": null,
   "metadata": {},
   "outputs": [],
   "source": [
    "projection3 = {\"_id\":0, \"name\": 1, \"address\": 1}\n",
    "list3 = list(collection.find({\"address.city\": \"Amsterdam\"}, projection3))\n",
    "list3"
   ]
  },
  {
   "cell_type": "markdown",
   "metadata": {},
   "source": [
    "We kunnen een dergelijke lijst ook als (pandas) tabel weergeven.\n",
    "Daarbij kunnen we ook de volgorde van de elementen aangeven.\n",
    "Let hierbij op de dubbele `[[ ]]`: dit is ook een *projectie*, maar nu in Python/pandas.\n",
    "\n",
    "> Het is niet netjes om het geneste document \"address\" zo te laten staan, maar dat laten we nu even voor wat het is."
   ]
  },
  {
   "cell_type": "code",
   "execution_count": null,
   "metadata": {},
   "outputs": [],
   "source": [
    "df0 = pd.DataFrame(list3)\n",
    "display(df0[[\"name\", \"address\"]])"
   ]
  },
  {
   "cell_type": "markdown",
   "metadata": {},
   "source": [
    "## Sorteren\n",
    "\n",
    "We kunnen de volgorde van de documenten in het resultaat ook aanpassen, met behulp van `sort`.\n",
    "We geven daarbij het veld en de sorteerrichting aan."
   ]
  },
  {
   "cell_type": "code",
   "execution_count": null,
   "metadata": {},
   "outputs": [],
   "source": [
    "cursor4 = collection.find({\"address.city\": \"Amsterdam\"}, {\"_id\":0, \"name\": 1, \"address\": 1})\n",
    "cursor4.sort(\"name\", pymongo.ASCENDING)\n",
    "list(cursor4)"
   ]
  },
  {
   "cell_type": "markdown",
   "metadata": {},
   "source": [
    "## Alleen documenten met een bepaald veld\n",
    "\n",
    "In plaats van de *waarde* van een veld, kunnen we ook het predicaat-waarde `$exists` opgeven: we vinden dan alleen die documenten die een waarde hebben voor dit veld.\n",
    "Dit is in MongoDB een zinvolle query, omdat documenten verschillend kunnen zijn van structuur.\n",
    "\n",
    "> In SQL heeft een rij altijd alle velden, maar een veld kan wel *leeg* (NULL) zijn. Dat komt het meest in de buurt van deze vorm.\n",
    "    "
   ]
  },
  {
   "cell_type": "code",
   "execution_count": null,
   "metadata": {},
   "outputs": [],
   "source": [
    "projection4 = {\"_id\":0, \"name\": 1, \"email\": 1, \"tel\": 1}\n",
    "cursor4 = collection.find({\"email\": {\"$exists\": True}}, projection4)\n",
    "list(cursor4)"
   ]
  },
  {
   "cell_type": "markdown",
   "metadata": {},
   "source": [
    "## Documenten met een ontbrekend veld\n",
    "\n",
    "Het tegenovergestelde is ook vaak nuttig: in welke documenten ontbreekt een bepaald veld? (Via: `\"$exists\": False`.)"
   ]
  },
  {
   "cell_type": "code",
   "execution_count": null,
   "metadata": {},
   "outputs": [],
   "source": [
    "cursor5 = collection.find({\"address\": {\"$exists\": True}, \"address.postcode\": {\"$exists\": False}})\n",
    "list(cursor5)"
   ]
  },
  {
   "cell_type": "markdown",
   "metadata": {},
   "source": [
    "## Welke waarden?\n",
    "\n",
    "Soms wil je weten welke waarden voor een bepaald veld in de documenten in de database voorkomt.\n",
    "Bijvoorbeeld: welke plaatsen komen voor in de database?\n",
    "Met behulp van `distinct` kun je dit opvragen."
   ]
  },
  {
   "cell_type": "code",
   "execution_count": null,
   "metadata": {},
   "outputs": [],
   "source": [
    "collection.distinct(\"address.city\")"
   ]
  },
  {
   "cell_type": "code",
   "execution_count": null,
   "metadata": {},
   "outputs": [],
   "source": []
  }
 ],
 "metadata": {
  "kernelspec": {
   "display_name": "Python 3",
   "language": "python",
   "name": "python3"
  },
  "language_info": {
   "codemirror_mode": {
    "name": "ipython",
    "version": 3
   },
   "file_extension": ".py",
   "mimetype": "text/x-python",
   "name": "python",
   "nbconvert_exporter": "python",
   "pygments_lexer": "ipython3",
   "version": "3.6.5"
  }
 },
 "nbformat": 4,
 "nbformat_minor": 2
}
