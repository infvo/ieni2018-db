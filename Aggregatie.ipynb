{
 "cells": [
  {
   "cell_type": "markdown",
   "metadata": {},
   "source": [
    "# Aggregatie\n",
    "\n",
    "Met aggragatie bedoelen we het samenvatten van de gegevens van een aantal documenten in een enkele waarde\n",
    "Voorbeelden van aggregatie-operatoren zijn: `sum` (en daarmee ook `count`), `avg`, `min`, `max`.\n",
    "(Dit zijn ook typische aggregatie-functies in spreadsheets.)\n",
    "Dit samenvatten combineren we vaak met *groepering*: we willen de samenvattende waarde per groep weten.\n",
    "\n",
    "> In SQL heb je voor aggregatie dezelfde aggrgatiefuncties zoals hierboven genoemd; \n",
    "  deze gebruik je in het SELECT-deel van de query. Voor groepering gebruik je GROUP BY.\n",
    "\n",
    "Voor meer informatie over aggregatie in MongoDB, zie: https://docs.mongodb.com/manual/aggregation\n",
    "\n",
    "Voor de aggregatie-voorbeelden gebruiken we naast de contacten-collection, ook een collection met agenda-items."
   ]
  },
  {
   "cell_type": "code",
   "execution_count": null,
   "metadata": {},
   "outputs": [],
   "source": [
    "import os\n",
    "import re\n",
    "import pandas as pd\n",
    "import numpy as np\n",
    "from IPython.core.display import display, HTML\n",
    "import pymongo\n",
    "\n",
    "pd.set_option('max_colwidth',160)\n",
    "\n",
    "userline = !echo $USER\n",
    "username = userline[0]\n",
    "dbname = username + \"-demodb\"\n",
    "print(\"Database name: \" + dbname)\n",
    "\n",
    "print('Mongo version', pymongo.__version__)\n",
    "client = pymongo.MongoClient('localhost', 27017)\n",
    "db = client[dbname]\n",
    "\n",
    "mongopathfile = !cat mongopath\n",
    "mongopath = mongopathfile[0]\n",
    "\n",
    "contacts = db.contacts\n",
    "contacts.drop()\n",
    "os.system(mongopath + 'mongoimport -d ' + dbname + ' -c contacts adressen.json')"
   ]
  },
  {
   "cell_type": "code",
   "execution_count": null,
   "metadata": {},
   "outputs": [],
   "source": [
    "agenda = db.agenda\n",
    "agenda.drop()\n",
    "os.system(mongopath + 'mongoimport -d ' + dbname + ' -c agenda agenda.json')"
   ]
  },
  {
   "cell_type": "markdown",
   "metadata": {},
   "source": [
    "## Aggregatie in MongoDB\n",
    "\n",
    "De `aggregate`-functie heeft een lijst van parameters (`[...]`).\n",
    "De belangrijkste twee parameters zijn objecten met de volgende velden (properties):\n",
    "\n",
    "1. `$match`: het *filter* voor de documenten in de aggregatie (als in `collection.find`, vgl. SQL `WHERE`)\n",
    "2. `$group`: het veld voor de groepering (`_id`), en het veld voor de aggregatie met de vorm van de aggregatie (count, sum, enz.)\n",
    "\n",
    "Zie ook de figuur in: https://docs.mongodb.com/manual/aggregation/#aggregation\n",
    "\n",
    "Merk op dat je voor de veldnamen van het oorspronkelijke document **in het $group-deel een `$` schrijft.** Bijvoorbeeld: `$address.city`."
   ]
  },
  {
   "cell_type": "markdown",
   "metadata": {},
   "source": [
    "### Voorbeeld 1\n",
    "\n",
    "In het eerste voorbeeld tellen we het aantal contacten per plaats.\n",
    "We laten het `$match` query-document hier weg: we onderzoeken alle documenten in de collection.\n",
    "We groeperen per plaats (via de `_id`) en geven per plaats het aantal (`count`) dat we berekenen door 1 te sommeren voor alle documenten (MongoDB heeft geen aparte `count`-functie)."
   ]
  },
  {
   "cell_type": "code",
   "execution_count": null,
   "metadata": {},
   "outputs": [],
   "source": [
    "cursor = contacts.aggregate([{\"$group\":{\"_id\": \"$address.city\", \"count\": {\"$sum\": 1} }}])\n",
    "list(cursor)"
   ]
  },
  {
   "cell_type": "markdown",
   "metadata": {},
   "source": [
    "### Voorbeeld 2\n",
    "\n",
    "Voor het tweede voorbeeld gebruiken we de agenda-items.\n",
    "Bekijk eerst het bestand [agenda.json](agenda.json) om een indruk te krijgen van de gegevens in deze items.\n",
    "\n",
    "We willen weten hoeveel tijd we voor de verschillende onderwerpen (`subject`) in de agenda hebben staan.\n",
    "Merk op dat voor de veldnamen in het $group-deel een `$` geschreven is: `$subject` en `$duration`.\n"
   ]
  },
  {
   "cell_type": "code",
   "execution_count": null,
   "metadata": {},
   "outputs": [],
   "source": [
    "cursor = agenda.aggregate([{\"$group\":{\"_id\": \"$subject\", \"count\": {\"$sum\": \"$duration\"} }}])\n",
    "list(cursor)"
   ]
  },
  {
   "cell_type": "markdown",
   "metadata": {},
   "source": [
    "### Opdracht\n",
    "\n",
    "Maak een query voor het bepalen van de totale tijd per vergaderlocatie."
   ]
  },
  {
   "cell_type": "code",
   "execution_count": null,
   "metadata": {},
   "outputs": [],
   "source": []
  },
  {
   "cell_type": "markdown",
   "metadata": {},
   "source": [
    "### Voorbeeld 3\n",
    "\n",
    "We gebruiken hier het `$match`-deel met een filter-document: we willen alleen de documenten waarvan de `participants` de persoon met email-adres: hdb@example.com bevat.\n",
    "Merk op dat dit een *normaal* filter-document is, als bij `collection.find`: de namen van de velden (properties) schrijf je hier zonder `$`.\n",
    "\n",
    "De totale vergadertijd per locatie met de persoon met email-adres: hdb@example.com:"
   ]
  },
  {
   "cell_type": "code",
   "execution_count": null,
   "metadata": {},
   "outputs": [],
   "source": [
    "cursor = agenda.aggregate([{\"$match\": {\"participants\": { \"email\": \"hdb@example.com\"}}}, \n",
    "                           {\"$group\": {\"_id\": \"$location\", \"count\": {\"$sum\": \"$duration\"}}} ])\n",
    "list(cursor)"
   ]
  },
  {
   "cell_type": "markdown",
   "metadata": {},
   "source": [
    "### Opdracht\n",
    "\n",
    "Maak een query voor het bepalen van de totale tijd per vergaderlocatie, voor het onderwerp (subject) \"Beleidsplan\".\n"
   ]
  },
  {
   "cell_type": "code",
   "execution_count": null,
   "metadata": {},
   "outputs": [],
   "source": []
  }
 ],
 "metadata": {
  "kernelspec": {
   "display_name": "Python 3",
   "language": "python",
   "name": "python3"
  },
  "language_info": {
   "codemirror_mode": {
    "name": "ipython",
    "version": 3
   },
   "file_extension": ".py",
   "mimetype": "text/x-python",
   "name": "python",
   "nbconvert_exporter": "python",
   "pygments_lexer": "ipython3",
   "version": "3.6.5"
  }
 },
 "nbformat": 4,
 "nbformat_minor": 2
}
